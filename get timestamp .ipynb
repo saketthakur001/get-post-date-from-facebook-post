{
 "cells": [
  {
   "cell_type": "code",
   "execution_count": 1,
   "metadata": {},
   "outputs": [],
   "source": [
    "# !pip install pyautogui\n",
    "# !pip install pytesseract    \n"
   ]
  },
  {
   "cell_type": "code",
   "execution_count": 2,
   "metadata": {},
   "outputs": [],
   "source": []
  },
  {
   "cell_type": "markdown",
   "metadata": {},
   "source": [
    "# get current cursor position"
   ]
  },
  {
   "cell_type": "code",
   "execution_count": 3,
   "metadata": {},
   "outputs": [],
   "source": [
    "# import pyautogui\n",
    "# import time\n",
    "\n",
    "# while True:\n",
    "#     cursor_position = pyautogui.position()\n",
    "#     print(f\"Cursor position: {cursor_position}\")\n",
    "#     time.sleep(.1)\n"
   ]
  },
  {
   "cell_type": "code",
   "execution_count": 2,
   "metadata": {},
   "outputs": [],
   "source": []
  },
  {
   "cell_type": "code",
   "execution_count": 5,
   "metadata": {},
   "outputs": [
    {
     "name": "stdout",
     "output_type": "stream",
     "text": [
      "[259, 35]\n"
     ]
    }
   ],
   "source": [
    "print([885-626,321-286])"
   ]
  },
  {
   "cell_type": "code",
   "execution_count": 6,
   "metadata": {},
   "outputs": [],
   "source": [
    "import pytesseract"
   ]
  },
  {
   "cell_type": "code",
   "execution_count": 9,
   "metadata": {},
   "outputs": [
    {
     "data": {
      "text/plain": [
       "(-379, -35)"
      ]
     },
     "execution_count": 9,
     "metadata": {},
     "output_type": "execute_result"
    }
   ],
   "source": [
    "546-925,335- 370"
   ]
  },
  {
   "cell_type": "code",
   "execution_count": 4,
   "metadata": {},
   "outputs": [],
   "source": [
    "import pyautogui\n",
    "import time\n",
    "import webbrowser\n",
    "\n",
    "\n",
    "# webbrowser.open(\"\")\n",
    "\n",
    "# change the tab\n",
    "def change_tab():\n",
    "    pyautogui.hotkey('alt', 'tab')\n",
    "    time.sleep(.05)\n",
    "    pyautogui.press('enter')"
   ]
  },
  {
   "cell_type": "code",
   "execution_count": 11,
   "metadata": {},
   "outputs": [
    {
     "data": {
      "text/plain": [
       "(233, 34)"
      ]
     },
     "execution_count": 11,
     "metadata": {},
     "output_type": "execute_result"
    }
   ],
   "source": [
    "859-626,325-291"
   ]
  },
  {
   "cell_type": "code",
   "execution_count": 13,
   "metadata": {},
   "outputs": [
    {
     "name": "stdout",
     "output_type": "stream",
     "text": [
      " \n",
      "2 October at 09:41\n"
     ]
    },
    {
     "data": {
      "image/png": "[encoded data removed]",
      "text/plain": [
       "<PIL.Image.Image image mode=RGB size=233x34>"
      ]
     },
     "execution_count": 13,
     "metadata": {},
     "output_type": "execute_result"
    }
   ],
   "source": [
    "import pyperclip\n",
    "import pyautogui\n",
    "import time\n",
    "import webbrowser\n",
    "\n",
    "# pseudo code\n",
    "# -- take screenshot of both of the images\n",
    "# -- click on the bookmarklet\n",
    "# -- save the bookmark data to a variable\n",
    "# -- extract the useful info\n",
    "# -- store all the three data to a dataframe\n",
    "\n",
    "# todo\n",
    "\n",
    "\n",
    "# webbrowser.open(\"\")\n",
    "\n",
    "# change the tab\n",
    "def change_tab():\n",
    "    pyautogui.hotkey('alt', 'tab')\n",
    "    time.sleep(.05)\n",
    "    pyautogui.press('enter')\n",
    "    \n",
    "time.sleep(.5)\n",
    "change_tab()\n",
    "\n",
    "#position of the visible date\n",
    "pos_1 = (626,291,233, 34)\n",
    "img1 = pyautogui.screenshot('screenshot.png', region=(pos_1))\n",
    "#move the mouse to a positiona\n",
    "pyautogui.moveTo(730,307)\n",
    "\n",
    "time.sleep(1)\n",
    "#position to the hovering image\n",
    "pos_2 = (550,335,379,35)\n",
    "# pos_2 = (726,426)\n",
    "# take a screenshot with pyautoguy for a given position\n",
    "img2 = pyautogui.screenshot('screenshot.png', region=(pos_2))\n",
    "# text = pytesseract.image_to_string(img)\n",
    "\n",
    "#click on the bookmark\n",
    "bookmark_pos = (39, 107)\n",
    "pyautogui.click(bookmark_pos)\n",
    "\n",
    "#get the data from the clipboard\n",
    "txt = pyperclip.paste()\n",
    "\n",
    "# get the date from the returned data\n",
    "print(txt.split('\\n')[3])\n",
    "print(txt.split('\\n')[2])\n",
    "img1"
   ]
  },
  {
   "cell_type": "code",
   "execution_count": 14,
   "metadata": {},
   "outputs": [
    {
     "data": {
      "image/png": "[encoded data removed]",
      "text/plain": [
       "<PIL.Image.Image image mode=RGB size=379x35>"
      ]
     },
     "execution_count": 14,
     "metadata": {},
     "output_type": "execute_result"
    }
   ],
   "source": [
    "img2"
   ]
  },
  {
   "cell_type": "code",
   "execution_count": null,
   "metadata": {},
   "outputs": [],
   "source": [
    "print(txt.split('\\n')[3])"
   ]
  },
  {
   "cell_type": "code",
   "execution_count": 21,
   "metadata": {},
   "outputs": [
    {
     "name": "stdout",
     "output_type": "stream",
     "text": [
      "https://www.facebook.com/pocketly.in/posts/pfbid02bx4fzoVag44Qzicxqp1R5o8aXFHRxvm7GpDmKA1kWnmPYCEJ74nuvuyuPuwWBrFml\n",
      "https://www.facebook.com/pocketly.in/posts/pfbid0213XYzyreQ4cxJEuBpv1yrxStrWtk15d88WwsoFKAgR1VmxySa2htZ5eJvDvtQFcwl\n",
      "https://www.facebook.com/pocketly.in/posts/pfbid026sKAabcU1Ec7udaTCmj5LbwcSnfgzLpLWD4e1oDMYXUzhY9omu6vC7rpVs6FZJGol\n",
      "https://www.facebook.com/pocketly.in/posts/pfbid02edUFAS7yajXWYwirKCdiTxffvPNab2JxMzabFppz7BsnpPxQ2kS5fnuhD4i466nil\n",
      "https://www.facebook.com/pocketly.in/posts/pfbid031BiZExZabQSTm3acmjhHeFk6hjqUWBfDHG68vhZr4qusnEbgjMsC8PtMkLZGoxp9l\n",
      "https://www.facebook.com/pocketly.in/posts/pfbid02kT3ByeNFLNcbi2NevmHGM13bxfBqShAW2ViagwMWPDUL4ve74hryLtHktGSWpZhSl\n",
      "https://www.facebook.com/pocketly.in/posts/pfbid035rmyvkB6y2iXb23S7MZGtLp75kFjTdbAwft9SqNYZoz4h5YTJ6kCAXXC1dqc1sg6l\n",
      "https://www.facebook.com/pocketly.in/posts/pfbid02KPTCHNV4aKidHvbgYtu7VRL4a9YPHsQ43pduxJtSKJterrHwpC4U8a9caABv4KdEl\n",
      "https://www.facebook.com/pocketly.in/posts/pfbid0LvZx7yFKZJ16oX2ZVdpNspcuDa1AG3B49pRu5RTbe88RoXwp6wNiB3x64jcSCdTzl\n",
      "https://www.facebook.com/pocketly.in/posts/pfbid04AvfsbjN1jsHG6M4LLVGPeoHfDDmVpKwJ1mrudDVo9tmYQo6Fk7wVu7JuMSA4rq2l\n",
      "https://www.facebook.com/pocketly.in/posts/pfbid0avYbqa4a9QPRR6worD466C7nyDwV3viLRB3BCNwB2sFKvu9RLsq4BiH9yxEBijFZl\n",
      "https://www.facebook.com/pocketly.in/posts/777347707728719\n",
      "https://www.facebook.com/pocketly.in/posts/pfbid02piWTQtbZ25Rx6M3EZuEXiisMoibrL12fS54YFxym1yMf5nVWzPdshcfPub8JMFfJl\n",
      "https://www.facebook.com/pocketly.in/posts/pfbid0ByGsT3qsKWs8tWFYuAUCzGMtrGpdJAWmUKakz7ovYAZNUXsegLkwKFHCrz88UwNsl\n",
      "https://www.facebook.com/pocketly.in/posts/pfbid026GhFfb11YvoivYuRJMyzu7vv4xwYkFa43xoEgiG5DnxjUNnx9MUdRWWs58teyMtvl\n",
      "https://www.facebook.com/pocketly.in/posts/pfbid0GYmJUyF62TACUr558uAwKJew5E48uyYQQQW9LPxcWCvC4gsDirxZXztb7DqYKRBsl\n",
      "https://www.facebook.com/pocketly.in/posts/pfbid0Msq3pX9HJyh3Lb3DcCKcRn3Q9o1vXy46rUjqPYicwg9MbgmPjionuFKN7ywRnZAPl\n",
      "https://www.facebook.com/pocketly.in/posts/pfbid022cpubBB8g7pzihJcZsnrFv1mPqhc4eJCz1YP7uzRsA4vwBmJmmxPmSCUp41sL9yPl\n",
      "https://www.facebook.com/pocketly.in/posts/pfbid02xqkVedvAmp9UvqdqupAApZ7q4ADVCtqugpjvGMx9YWZE8uTfUbpcNFhcJE46gNPpl\n",
      "https://www.facebook.com/pocketly.in/posts/pfbid0QxpkoTWo55JeedybFyoss9ef2hDty2dSfQFaRdRLtpHDcnkSsoobLEyrhrouysRal\n",
      "https://www.facebook.com/pocketly.in/posts/pfbid0fQaJJ85xbL3D7gEQSExUu7xQJ1DwNhyXQVeQ1qxVK1meoMjHCpVN3ESVpB9yqir8l\n",
      "https://www.facebook.com/pocketly.in/posts/pfbid0NTuHpWys88hUyKyonu9CA1jWRSGigYgt6YiyivzSp2e4Q5UTHGb1dLQ7kvqWETUal\n",
      "https://www.facebook.com/pocketly.in/posts/pfbid02DEoorh5RLwNYzNRJuqv4fYgC2Dn1CrdZX7APArdKbcfczptcdnY937LpU713v8Wl\n",
      "https://www.facebook.com/pocketly.in/posts/752119640251526\n",
      "https://www.facebook.com/pocketly.in/posts/pfbid02Zxr78zFMF55ov83FpsmqjhVLasSrWtp27Lj4CtVzeSFsBPwBaqMCf2FY1vzCpW98l\n",
      "https://www.facebook.com/pocketly.in/posts/pfbid02ZjdfpTvcupz6TLa65tzb5grUXJac7xC6jdxPtyk6TLGetHow9ZM1yoBa4Tfrk6P4l\n",
      "https://www.facebook.com/pocketly.in/posts/pfbid02C8tF6tzyRYdCfcgahf7rKvWBChjBKQXxDhHMfcwyEtZzhNKNRDQo1pNJYzsxRF9ol\n",
      "https://www.facebook.com/pocketly.in/posts/pfbid02X3F7eF9MV6XuzmMzXezhR5LroaP4ECCdGDgq3FyY7X354QTnk9bCi7qwewCkcq5Sl\n",
      "https://www.facebook.com/pocketly.in/posts/pfbid0ME3PwANAFnSg8qepF4jv5qwA8ARAZkPyNZCbaYH3ToH6nvZ8D9W6wuWkfAmj2Fjnl\n",
      "https://www.facebook.com/pocketly.in/posts/pfbid037qfYdxA1cXjbB7zUp5UnXMoFEVmd26fdwwsbvcA5Hbs3uDEpT53hW3hFcYpHcqs2l\n",
      "https://www.facebook.com/pocketly.in/posts/pfbid02eezu633ik1s6qbqvJR6TH1dxfiv11ce2oGyjekQ68ve1KpZ7HrGCJsDDhRBtA2Yzl\n",
      "https://www.facebook.com/pocketly.in/posts/pfbid02XQYJizxWMh69Jb9GPjaChfghTy9aSWeMWD1a4zvhyVSgcf7xxEYEMopRMbvKGtXul\n",
      "https://www.facebook.com/pocketly.in/posts/pfbid02MbzXquooGMM3aFBHAxGNU7a4wmca6VLcYuaHSejehHERZ4h3sQTkBvLq9u1YDL7zl\n",
      "https://www.facebook.com/pocketly.in/posts/pfbid034jFVgNyRnVRYoV5HtfQcF2ULSGJrvhevrPX1S1sM7emx5xphQyvGNi1oS3EvGm9kl\n",
      "https://www.facebook.com/pocketly.in/posts/pfbid02piwnwhcejWBYYZR4boajxaxDo7s6dVre7VtrtwjLH4PvQW4Jv7yV2P5WtNnpvwp5l\n",
      "https://www.facebook.com/pocketly.in/posts/pfbid02cn1QV1Tk4vy1KnRhnekxGmhbw5t86rL3wiepCgvwTrdd45YbY5W9YBBtstGzwLmYl\n",
      "https://www.facebook.com/pocketly.in/posts/pfbid02Fm1CBbUFmLXLsxezES3PLafsV4jp9M7twuTgB6Dy4i9adATdbUmZWS8t5VA7kdkAl\n",
      "https://www.facebook.com/pocketly.in/posts/pfbid02hHtm1mgCTZB8Cw9aWq9f8xZL3uv9wFjKUcWDriUKk1j4D6pvJFySBNi8AU3SP5pBl\n",
      "https://www.facebook.com/pocketly.in/posts/pfbid022WPDSTHXjwHSibaMXFy9hUQ9wXw2DTbG8qaqr4gNkjFQhcWuHka477a6JbEih4mQl\n",
      "https://www.facebook.com/pocketly.in/posts/pfbid02TKZ6byYTxQiMWYsUgeSxP8Ph2XqvpxmqSVg82jNF7aQGRCLBzkB5Z8azG4cEsKvPl\n",
      "https://www.facebook.com/pocketly.in/posts/pfbid02FUJ63pdqZn5z8pR1pJ4ZHzLg6qpqHJpTtbj4nvFLbDVkCmKCjDBcSSRUqDA9mf8ol\n",
      "https://www.facebook.com/pocketly.in/posts/pfbid0QmaMopR7HceutYgA1WPYCSw6a8v5ADNdpMpV3sPwMixLktfTj85uMLY9ys8iHoZil\n",
      "https://www.facebook.com/pocketly.in/posts/pfbid0NAY9xHyhWasQMbj1YjzSWzWLd7w7f5iauSjcrPRoEx3abHeg2vuftrw6BEoExMXBl\n",
      "https://www.facebook.com/pocketly.in/posts/pfbid02E35Qv9tUJv7vtYbebATxWzr7o7DP4SUCWe2cAWhrJwwW17cSHnAEvA6h1TJes46Xl\n",
      "https://www.facebook.com/pocketly.in/posts/pfbid02E6F8TGR34zvWWJXpd7fUznku3ke4pheCS9F988TbqXFBpoJwHZWjpSpFAM4Z5Q3sl\n",
      "https://www.facebook.com/pocketly.in/posts/pfbid02V6ya7uH381JHSoWSVu5UNqMD79dLCLPavTRqPMdeqny3xZjvizqe43AqKaZiWyxYl\n",
      "https://www.facebook.com/pocketly.in/posts/pfbid0PETfSSZ1jmZR7GNSEoMmhMsctxEgkX6eyxiqp4TiELaeVsSL4prFXAoSjyfZfg9Pl\n",
      "https://www.facebook.com/pocketly.in/posts/pfbid0JYJr4A7YQHCRtwRtVRGjzpowY6sQgFsNFhSuf2qUv8RvLiV2NFi4u1RyTqEs3qhkl\n",
      "https://www.facebook.com/pocketly.in/posts/pfbid01BAyq9wvyUvLNRcwN4h1VXsJzPuTwHwRQ2G7oxFuRQTucTtgwPERzp3cCDbuurojl\n",
      "https://www.facebook.com/pocketly.in/posts/pfbid02mspW9GTR3ELj1NeUaHNq91hDYMfSdFUiqxAnB4NETBcC4g1dSEkFokTpmag3Wzk6l\n",
      "https://www.facebook.com/pocketly.in/posts/pfbid02DoRe4pYeGA6Q7UmQ6enMw4MuPNN2LMrWvhyUneGthEKbTopq54eHMH6ERNDitfN2l\n",
      "https://www.facebook.com/pocketly.in/posts/pfbid02oMfCToKNaUhz9X1VQrBh6VHbPeD4PexJjwkijaPYMj2eUek1rgh1dD88f1YYAvk2l\n",
      "https://www.facebook.com/pocketly.in/posts/pfbid0eNjBxJ8ZgpApwCYuaT5h9iRVeVnvhgG1Z8GBxaSAyoytaCxXwG6zBtuJkqa9PX1Xl\n",
      "https://www.facebook.com/pocketly.in/posts/pfbid0SsfxMAa3Mz6nmSkVhjzWKaFSK82AJut48eNZB9gtkcEsQuNeqiYFQSP6VMPWXtZHl\n",
      "https://www.facebook.com/pocketly.in/posts/pfbid0tZQbBkujFdcrJd4MLijnHZUfoQ2n6mSCc4cFGneUNVres2rcw1vrXR6bEvFRfKWHl\n",
      "https://www.facebook.com/pocketly.in/posts/pfbid0ZWJz2CPNvQHeQmLv4A3EqATC7TF1zUS4H16uUuNDcuk3L8GmLiEvivCRvUrcKoCUl\n",
      "https://www.facebook.com/pocketly.in/posts/pfbid02pw4tSCPdnJj92LV7ZGVaXkrRuAv1NKK4Kd8RaFmfx5jT9EJJ8YF4rb2ZhfK3xowgl\n",
      "https://www.facebook.com/pocketly.in/posts/pfbid02Bvennxq7cCm3j3d47KThkfi4VJc622tJqmxwrSWM7NjEgdEHegykZofdPoamEQaUl\n",
      "https://www.facebook.com/pocketly.in/posts/pfbid02MvfesLEAB8kkiyMYREZWhYmoYeUmeXMqsrwjBY99ZkJvyq96NCeu8Bhau2dtJ1Cil\n",
      "https://www.facebook.com/pocketly.in/posts/684510690345755\n",
      "https://www.facebook.com/pocketly.in/posts/pfbid023H3u1LyMSjkrhBeYY91L246KksiEmEomReuuuLir1PzMLWdcY5neKiiACtRGtxwdl\n",
      "https://www.facebook.com/pocketly.in/posts/pfbid0d3WtsmtoVH3MfvQYHZtZJ9qpz6aLz9mDa8NdYn57Ls86uZBczTtEtSxfavF7w28Al\n",
      "https://www.facebook.com/pocketly.in/posts/pfbid02uXDJL6gQDend1mHqJvWWMfgBE1TVFaUyGVKFAjzHiaBLxiiEuZroXqHjfpEkFoB4l\n",
      "https://www.facebook.com/pocketly.in/posts/pfbid0FiAb8nPNuDd84ucSkWyG5p7BKTxtErxu4jVuw215oZd4aQLEHoZrBWmYwm5qyBy6l\n",
      "https://www.facebook.com/pocketly.in/posts/pfbid0p5vZeDfDSysxGCEU4atin5qtLxjXCrRbS6xFNLzQEiPmYWLbZ6nts7oLQwYspmzGl\n",
      "https://www.facebook.com/pocketly.in/posts/pfbid0tEqn7Jc3RwF1S7HoJX9a2DV4gCKAFV5qQTdFDVVFz7Nev4PE6i1H7q9MGbUimJahl\n",
      "https://www.facebook.com/pocketly.in/posts/pfbid02LFoFkoRAZ53p16gKV3mp6gPAw8rUQEVseww5XkEn9MipgfLnuoUzQoN5Jw56TvVRl\n",
      "https://www.facebook.com/pocketly.in/posts/pfbid026N9wNV6e8V4mDWrmiYqb6Q2PGpKkY6epGjuzZQ9CJ1z6ZJFwhLjUdpiV8qqsUdqjl\n",
      "https://www.facebook.com/pocketly.in/posts/pfbid02Kky2hJAfTqXrgGQXxge3ohsE58GW7CQ7Mpi2rAVgSLS82EwSRe4tCvTEifbeWE36l\n",
      "https://www.facebook.com/pocketly.in/posts/pfbid0gVG82TJbUXPRYSEaKbbjQeiUqPhuYg1s5zqJ5Vs8UBDuzGtxx6YP92udwCtRuunCl\n",
      "https://www.facebook.com/pocketly.in/posts/pfbid0358Bg4wU6jyTA6M79NFQgKrEsmrsusVXBmQnUJCLCynqcg4gknAxszVWP8AFGTZ6bl\n",
      "https://www.facebook.com/pocketly.in/posts/pfbid029jK8Seou8QbawLoaCmGCUrMT3ZqgVZvAXW1ecQHzQsvDoBZyibhjjj2ofsNPRYdml\n",
      "https://www.facebook.com/pocketly.in/posts/pfbid02Haigjn46RuhA5KHhnZsXm1MtNzeb6cAM9bigC16dtj8RaN1G1T9anHFozeDauHKpl\n",
      "https://www.facebook.com/pocketly.in/posts/pfbid0VBEgxGFWbrT93Rjc9J6JvPEgwLTefTdgoqzH8LvDsrkCV1Pxu1myHA9oQWJ7bChml\n",
      "https://www.facebook.com/pocketly.in/posts/pfbid034a5RXMaMoW2cgsMH9oc77oqP63giV76r8Nu9QoG3bnG4cDa8LfdhYkoXQk1q1JCBl\n",
      "https://www.facebook.com/pocketly.in/posts/pfbid02ke4we7bV6qPydNH4duLZJcRb3NuBrk2wwBhtqanCek4uGNPa9fiN88zre25wBJXcl\n",
      "https://www.facebook.com/pocketly.in/posts/pfbid0wfc2FPrxuJR6hKu1jAr7e258DRnmGZSvyzPpVVgUNqjeTP3pWDSWJ9jgtbir8SNrl\n",
      "https://www.facebook.com/pocketly.in/posts/pfbid0jgGEVmpp8m2y2exca4frQD4zvKg8sYxUMhJDeKpDLnxAXwgb96w7kxVVuaq6SERzl\n",
      "https://www.facebook.com/pocketly.in/posts/pfbid02rgCNM6v3Hsy8cxGZzcQkZDMRXoPcw8LgN2Qu2du7rizsmnNAzNqYd13WSs2HX1y9l\n",
      "https://www.facebook.com/pocketly.in/posts/pfbid087HTKNt7EUVcNesK6jyrrk7DzhNKPvnDL8nDcTnvgTXcdB7XVS7r2hFWFYdXDkBbl\n",
      "https://www.facebook.com/pocketly.in/posts/pfbid02UeshdTtuEysxEoFWi6KTcLf6Mk1TGdSPhWRPZbgWqn2zAc52cgcgN6odLTtT1ayBl\n",
      "https://www.facebook.com/pocketly.in/posts/pfbid028b2JWsKoSx5RWSJBSqW6PrRFoGtqbsV11VnNzG5Ff2YR7w7C9Kbw9KuKEgVk5Qdhl\n",
      "https://www.facebook.com/pocketly.in/posts/pfbid02NbSKCWoFb6NhXTqGsCGWcBCYGxc9567X5wcCabbKXazkBSyaw2tEqBi8gfpg7dUSl\n",
      "https://www.facebook.com/pocketly.in/posts/pfbid0wM3BjhvBF2LL3wMqx48qGdUmJsMuwk2YzhhJXtjmDKkzRURGrCsCtXd5uQghiT9Fl\n",
      "https://www.facebook.com/pocketly.in/posts/pfbid0KZAyPPv4nvpgxYB8uN5iYUGTuT9umQNf7jLxeAUKGs9htMbETLtzUk9ohWTuztqSl\n",
      "https://www.facebook.com/pocketly.in/posts/pfbid02LFub91AwUubU29YfGPcbDNFsSDUi6wvVZEM57Jc6gMv8jC3hWK1Fe7iS8mSqYkStl\n",
      "https://www.facebook.com/pocketly.in/posts/pfbid0y9Dzw3wAuVCatqA76qoa3RkpbhHGuGnac6Ti9jN7L3iQGADfeh8TjemDpVduMBLTl\n",
      "https://www.facebook.com/pocketly.in/posts/pfbid026QSyqyb1U1iHwBSTVncZj9ZBWxRdwiMQPPbDBhVxZJZH8rMH4hWhiuGkTv7BsTUDl\n",
      "https://www.facebook.com/pocketly.in/posts/pfbid02bBwfLvadcToRcUtuBpsm41vtWKZSvUhj5mdqZFow886GpxFnbw618SRGNwYyHdNHl\n",
      "https://www.facebook.com/pocketly.in/posts/pfbid02B9mSTfdk3aRPhcfDHof15w98DDMHowVCkYKDBMXXYtKknaGFwpXM17SmZKU3fGFfl\n",
      "https://www.facebook.com/pocketly.in/posts/pfbid0D69QGfo6cQuks2GGPshu21hsWrjBYUK4di5afpLFhUz17zQg8rSrE46n21oVHYYtl\n",
      "https://www.facebook.com/pocketly.in/posts/pfbid0ma8T2tjBv1KpukiLrvCz7pyVsvUHquPvk8G7W9zkEbpUfTSqNYM97kxJrv4GbXThl\n",
      "https://www.facebook.com/pocketly.in/posts/pfbid0741zzv7eFpLjFVgX9xaE5mSmjRxS4THmq1LUp9dLqT5huKhuoYCBaqsR1U8qXFeYl\n",
      "https://www.facebook.com/pocketly.in/posts/pfbid0bvyR5EV6fRWHTJkqjuKkhU7LRvThUddnkVsmkqJYCRQTjW18ucj7tC8WsC2CSxLyl\n",
      "https://www.facebook.com/pocketly.in/posts/pfbid0tme3Vh5b52tMvZwAdGUwnUwe28UwAPvQEdQCKFUCWy42JaTYpxYJBvM8UEjKEQeMl\n",
      "https://www.facebook.com/pocketly.in/posts/pfbid02WE4kGh6iRrjZF5Kv1uqxZG975KYzPfria7q1eDYmHJjEaek2NpQA57h3AyZanzWkl\n",
      "https://www.facebook.com/pocketly.in/posts/616292183834273\n",
      "https://www.facebook.com/pocketly.in/posts/pfbid0236g8CrdfQj77iqG4Kj8ArcMrLjJQnXmctWHXY2ujCJq77vUuzNbHtSENHgudi7USl\n",
      "https://www.facebook.com/pocketly.in/posts/pfbid0a6PE2CDxjXNTLTCAYTa1U8dgYvCW3EEa8rUhgmBRbRwoz4htNjnPzpms62riKb85l\n",
      "https://www.facebook.com/pocketly.in/posts/pfbid02fYYdmhHLvxSnRL8izsyYeaBwdcSkVBqSuoodvUuBnovwvzZoa8fUVBrC4MGyXfAwl\n",
      "https://www.facebook.com/pocketly.in/posts/pfbid0XqSY3CJBcrAMvhssDmSqGwsrPhZUqU3UHdCSwidC66ax7iUmaycRMZ5mx2rs3hqdl\n",
      "https://www.facebook.com/pocketly.in/posts/pfbid0U7kYSALPvnzoEKFAPbwSnoBSiTv2HvoU5PnqA3f1AQh2vyYBQQ8vYgUft1iDenVxl\n",
      "https://www.facebook.com/pocketly.in/posts/pfbid02sAUvVbPfjwMbMj4mqfBcaFZVzBzQ2KsSZEd4wV9mELyNpEgzySihYy9SzvBkor7bl\n",
      "https://www.facebook.com/pocketly.in/posts/pfbid037G8x7jTCbwRy6i4nAj35bwp9z48BqEEH2jksuN1jYmZ62fZ5DRjtSLSoGSbpArCol\n",
      "https://www.facebook.com/pocketly.in/posts/pfbid0tMPq5TtX8iKgJwNGbfeHGXhQeq3gwJZio6dvREzFDCaTiYPP9kVQVyqBSesaiqDQl\n",
      "https://www.facebook.com/pocketly.in/posts/pfbid032mzvGyg3EByicCMdYhwUi7nPL27HHTMSM7nSNW594S1UxgDWwMJJSHD4hq8awnCwl\n",
      "https://www.facebook.com/pocketly.in/posts/pfbid02kFu8ND2LUqxcAmqzxrvoWV7AtLRkwLxi8FPvXxPLRCkg1X1F2rZegD2zmoy9Cnepl\n",
      "https://www.facebook.com/pocketly.in/posts/pfbid0umX8wsT3GV3U3sCsuH5Y5DfDrQJcdAGDFcbETEs7fhYqfD1NBELWJRKgikcSpixKl\n",
      "https://www.facebook.com/pocketly.in/posts/pfbid02SXMm7Uvu6XY2nHn3HjJfdzjncYEf9RD4yBEbGhn44JaU135Q5GAPmjFfAHF7zUjMl\n",
      "https://www.facebook.com/pocketly.in/posts/pfbid0Fa5ronY4CYJYxZmGo6gMjbLYxZgDZPZCyYgyQzfckUnF8uEzZS15PuYnRqgGVGaUl\n",
      "https://www.facebook.com/pocketly.in/posts/pfbid0344vCKF4XvhitW5pGPJdWWLyi62Qrhy2jJFU1aw3QWaJiSFdcQ4pFdEwxURELV2CFl\n",
      "https://www.facebook.com/pocketly.in/posts/pfbid02LHmGeT17GBc8fo3Lmd8GnkDTF32HajEC71vA5BhGdzfv3T3ANM1nhWh3MX11r7iel\n",
      "https://www.facebook.com/pocketly.in/posts/pfbid02tA9NcbtfvELopjBHKE7nJs4JExDxZYcgKZJ1B5UCBFvQf4Km1o8FWM1cvXJmyhPel\n",
      "https://www.facebook.com/pocketly.in/posts/pfbid02eeEaqrQQ5oZ3MCgJJwwAcK96ZbsEuPP9VvKgcFi6TWiEcTDrtXhwFshpHBJoJDajl\n",
      "https://www.facebook.com/pocketly.in/posts/pfbid02PQqKuEiLfKn3w1MAQPKmGinQ2go6UWSM3zSE9Z3UzsNsTw9T22t8RPr6rbAN8Ut2l\n",
      "https://www.facebook.com/pocketly.in/posts/pfbid02bdAtCyZfua1qDxMGxyvEQv7GxrYhYDMJFP5CatXgcKegJVYFP8RnchwgS1YoBjQrl\n",
      "https://www.facebook.com/pocketly.in/posts/pfbid02ML3iX5ybtJMcFoGDozcPQVmrmTxEK6bx9Cj9woLHaKqLkpFCeHJHBKQD3itxSY69l\n",
      "https://www.facebook.com/pocketly.in/posts/pfbid0Pkbu6NroxyQez6VchRQQYszTbxviry24cx2ggvnJs6Lddc3bo9XU6bBGGvSZxLdwl\n",
      "https://www.facebook.com/pocketly.in/posts/571462524983906\n",
      "https://www.facebook.com/pocketly.in/posts/pfbid02nypLU2jM4i4DBdYp8rLj4sBCjY7iFsmaFM1G8dtmBXtAEqRuzGaJ65g5ggojTsWUl\n",
      "https://www.facebook.com/pocketly.in/posts/pfbid0RsFAYjncgmtnJXUcsVFvdFzenVwMuMg9Jcq7DxB224pJfe2m5oreB1eNerFvxDvol\n",
      "https://www.facebook.com/pocketly.in/posts/pfbid022pjMkW5fi3iLufinDuNtRYgk9M2zHgHYVfiBhcCQU4jRDKisaqBm5uMdccHvtDWol\n",
      "https://www.facebook.com/pocketly.in/posts/pfbid0MQrUqE5rAUmpqyxgFFKX4pbeePD44F9c9NnQdBE2CT7MXeAyxquJXG79pQffnvrel\n",
      "https://www.facebook.com/pocketly.in/posts/pfbid02ontNTP2DByFBzRsGp32HXE3EgXcCwyHB85EmHQdSbRd9Kv7B62vCTdUAGnbfdTe3l\n",
      "https://www.facebook.com/pocketly.in/posts/pfbid023vWXJrr3sgxAoQS3szJ83mgpygw45f7RMtaM52FcTM6DRDbsKxXRXCB199TvSK1Ql\n",
      "https://www.facebook.com/pocketly.in/posts/pfbid0TCEnrrWq2VqFMVkLsiuJfA9rSj4DGHEbnQm2qeWUgpXC6KU8YyRHH1jPo4d8ExzHl\n",
      "https://www.facebook.com/pocketly.in/posts/pfbid02fKSXqNiPXcJEWgo52pXUYp7EAFCzeLYu8ULzUqpTfBaqwZ2tGMZG3tStd2Pgoyyjl\n",
      "https://www.facebook.com/pocketly.in/posts/pfbid02ZFtp2Drxwi7WU9vrMQn3ooVhCdwwLRBXCA54oBoBJuQavFJ3HXmdHDnQxwKLS4Nxl\n",
      "https://www.facebook.com/pocketly.in/posts/pfbid0FFQgutqVcJR1mAhVN8ctERMUBKX34r2cUZVV1RUBSdrcaPmGcj7RvDiRTJ8o9cQfl\n",
      "https://www.facebook.com/pocketly.in/posts/pfbid02aULLVi2VuKQNsoq88ijkuEWN4wDZz4nPkhdW36aKkW6Du1SqYVG9XRs1LZRPiqiyl\n",
      "https://www.facebook.com/pocketly.in/posts/pfbid0wE3pfyFhfVQqmHG717GPtrm2n5C4LW3ePQqExd7c1UkrteqY4LFgVoPBuShbzCbLl\n",
      "https://www.facebook.com/pocketly.in/posts/pfbid02cpr513SnNDUxdU17uim24pieGAZ1CZN4iQeM8Q4mxF85jrrre5K3sDrKDk4umusBl\n",
      "https://www.facebook.com/pocketly.in/posts/pfbid02or45zVYmx7QUm2gd3xAdUFk5fowvijpGQMVT6StfvT3F1qBavGpxDGiCKWxG8qwhl\n",
      "https://www.facebook.com/pocketly.in/posts/pfbid02tSdqRCre6wLRdpYqukPpLU3De4SjfQJ8ZzSJrkTSMj7BphNmDp6AdDRC9TFaszAal\n",
      "https://www.facebook.com/pocketly.in/posts/pfbid0ibU6pUVWAJxW5qPJa1Bj83un94Tm5g7AFVRADzJNu9ohMPimE4WSCuTi8BLVZHXjl\n",
      "https://www.facebook.com/pocketly.in/posts/533628118767347\n",
      "https://www.facebook.com/pocketly.in/posts/529656112497881\n",
      "https://www.facebook.com/pocketly.in/posts/pfbid0Mv1i3Lbg3Km2AYYwLyNtmQgNsmGenxkRg9H37zweujHRr5yRMA26gBfxRzN8XtMMl\n",
      "https://www.facebook.com/pocketly.in/posts/525617712901721\n",
      "https://www.facebook.com/pocketly.in/posts/pfbid02NqJjP21XembsmjdyhEqaMUGvczUueYWm3vgn25RbKuzj5jrouEWJMW9AuCbz2y6Zl\n",
      "https://www.facebook.com/pocketly.in/posts/520931536703672\n",
      "https://www.facebook.com/pocketly.in/posts/519907270139432\n",
      "https://www.facebook.com/pocketly.in/posts/519028976893928\n",
      "https://www.facebook.com/pocketly.in/posts/pfbid02iCyB4GUfeNujJoAiKYT4psZEfpydL8TgN7RZm9UPUZ265e6iQCx9cGvEX4FvChUYl\n",
      "https://www.facebook.com/pocketly.in/posts/pfbid02TvHPmfBu1r8TcAyiZeixKs1dVCoHrvtdSbntgbv3Eh27rZUe5AuiGeNwnhpFxH6fl\n",
      "https://www.facebook.com/pocketly.in/posts/pfbid02g6YaNK4QnTxfqQjmzhcbtwx2KxWR6LJsxhYZN4N1pPVdaeNosBw7v5WX61yhpheel\n",
      "https://www.facebook.com/pocketly.in/posts/pfbid02PDuw4CsyfUv8JLWC1KivJNGkvBaLo8XvTNUnZGTzh64JtfMwfaBPjTFjMbFt7EcHl\n",
      "https://www.facebook.com/pocketly.in/posts/pfbid02QsgzLi9E1Biw6mhZKLZZwDnvVSrQH7JAta9i8v9wVQZELgDTyssgnnATmeqEdurMl\n",
      "https://www.facebook.com/pocketly.in/posts/pfbid0kXBwzZwr3ZwqXszcZKv6Zqqao4nc2fsvsZyvmRGrncEQbpnKJeNBKcZYpx8hEHzYl\n",
      "https://www.facebook.com/pocketly.in/posts/pfbid02VzrJxAmz6fpA1KRkjq563uAkkorBjwfGNuuvEsX253GzVxtfswB1vWbWGqkLfwr2l\n",
      "https://www.facebook.com/pocketly.in/posts/pfbid029FMbt1EhJeVUrobUsW2ZC5Ey1XPSrqf1qrYoBwuesJjSNC51wHsCndDJqfJ7udzvl\n",
      "https://www.facebook.com/pocketly.in/posts/pfbid0yNmSQBXE2DCXuNW6veJ1GVhV2mPwK3hxCC4DnDCzExGbB8tALpyMNG1zVPTsM446l\n",
      "https://www.facebook.com/pocketly.in/posts/pfbid02LvEs4uSjVr9VUSsu2AUZQ8udiKE3uutF2V1zHRASXAWqannoKwPVJMjY7QmgWLtol\n",
      "https://www.facebook.com/pocketly.in/posts/pfbid05EC9dJ8vq3rSgSNAFhB1vGrUyEm42TMsSkryVku697YWCPc9SJWe7YGsnwovJhUul\n",
      "https://www.facebook.com/pocketly.in/posts/pfbid023NwvF465jewbj3kepQmbS5paerxDDPLbmr2N7m4zoEgYkQbVp5nePmk5GcPc2VChl\n",
      "https://www.facebook.com/pocketly.in/photos/a.469622424434011/956330572429858/\n",
      "https://www.facebook.com/pocketly.in/photos/a.469622424434011/953152022747713/\n",
      "https://www.facebook.com/pocketly.in/photos/a.469622424434011/951433996252849/\n",
      "https://www.facebook.com/pocketly.in/photos/a.469622424434011/949009793161936/\n",
      "https://www.facebook.com/pocketly.in/photos/a.469622424434011/937549980974584/\n",
      "https://www.facebook.com/pocketly.in/photos/a.469622424434011/933464924716423/\n",
      "https://www.facebook.com/pocketly.in/photos/a.469622424434011/931072038289045/\n",
      "https://www.facebook.com/pocketly.in/photos/a.469622424434011/929347048461544/\n",
      "https://www.facebook.com/pocketly.in/photos/a.469622424434011/927636091965973/\n",
      "https://www.facebook.com/pocketly.in/photos/a.469622424434011/926642138732035/\n",
      "https://www.facebook.com/pocketly.in/photos/a.469622424434011/925810765481839/\n",
      "https://www.facebook.com/pocketly.in/photos/a.469622424434011/922658552463727/\n",
      "https://www.facebook.com/pocketly.in/photos/a.469622424434011/922532449143004/\n",
      "https://www.facebook.com/pocketly.in/photos/a.469622424434011/922389015824014/\n",
      "https://www.facebook.com/pocketly.in/photos/a.469622424434011/922047289191520/\n",
      "https://www.facebook.com/pocketly.in/photos/a.469622424434011/921947262534856/\n",
      "https://www.facebook.com/pocketly.in/photos/a.469622424434011/921835082546074/\n",
      "https://www.facebook.com/pocketly.in/photos/a.469622424434011/921289289267320/\n",
      "https://www.facebook.com/pocketly.in/photos/a.469622424434011/921171169279132/\n",
      "https://www.facebook.com/pocketly.in/photos/a.469622424434011/921057295957186/\n",
      "https://www.facebook.com/pocketly.in/photos/a.469622424434011/920967042632878/\n",
      "https://www.facebook.com/pocketly.in/photos/a.469622424434011/920864935976422/\n",
      "https://www.facebook.com/pocketly.in/photos/a.469622424434011/920530616009854/\n",
      "https://www.facebook.com/pocketly.in/photos/a.469622424434011/920436749352574/\n",
      "https://www.facebook.com/pocketly.in/photos/a.469622424434011/920352432694339/\n",
      "https://www.facebook.com/pocketly.in/photos/a.469622424434011/914978283231754/\n",
      "https://www.facebook.com/pocketly.in/photos/a.469622424434011/914725526590363/\n",
      "https://www.facebook.com/pocketly.in/photos/a.469622424434011/914553833274199/\n",
      "https://www.facebook.com/pocketly.in/photos/a.469622424434011/895819271814322/\n",
      "https://www.facebook.com/pocketly.in/photos/a.469622424434011/895504068512509/\n",
      "https://www.facebook.com/pocketly.in/photos/a.469622424434011/895040868558829/\n",
      "https://www.facebook.com/pocketly.in/photos/a.469622424434011/894732631922986/\n",
      "https://www.facebook.com/pocketly.in/photos/a.469622424434011/851046912958225/\n",
      "https://www.facebook.com/pocketly.in/photos/a.469622424434011/850849239644659/\n",
      "https://www.facebook.com/pocketly.in/photos/a.469622424434011/850365409693042/\n",
      "https://www.facebook.com/pocketly.in/photos/a.469622424434011/850148156381434/\n",
      "https://www.facebook.com/pocketly.in/photos/a.469622424434011/849669733095943/\n",
      "https://www.facebook.com/pocketly.in/photos/a.469622424434011/849462993116617/\n",
      "https://www.facebook.com/pocketly.in/photos/a.469622424434011/848791973183719/\n",
      "https://www.facebook.com/pocketly.in/photos/a.469622424434011/848004636595786/\n",
      "https://www.facebook.com/pocketly.in/photos/a.469622424434011/847290390000544/\n",
      "https://www.facebook.com/pocketly.in/photos/a.469622424434011/846597350069848/\n",
      "https://www.facebook.com/pocketly.in/photos/a.469622424434011/841487940580789/\n",
      "https://www.facebook.com/pocketly.in/posts/pfbid0eKfqEczsgyme5ZQoogM9Rd8fHBeTo6rQkWypurA2mPjJ4nTSFBgDoDAV2QHuN9N6l\n",
      "https://www.facebook.com/pocketly.in/photos/a.469622424434011/828022095260707/\n",
      "https://www.facebook.com/pocketly.in/photos/a.469622424434011/827442651985318/\n",
      "https://www.facebook.com/pocketly.in/photos/a.469622424434011/827343505328566/\n",
      "https://www.facebook.com/pocketly.in/photos/a.469622424434011/826836515379265/\n",
      "https://www.facebook.com/pocketly.in/photos/a.469622424434011/826650348731215/\n",
      "https://www.facebook.com/pocketly.in/photos/a.469622424434011/826524868743763/\n",
      "https://www.facebook.com/pocketly.in/photos/a.469622424434011/826037258792524/\n",
      "https://www.facebook.com/pocketly.in/photos/a.469622424434011/825968442132739/\n",
      "https://www.facebook.com/pocketly.in/photos/a.469622424434011/825836612145922/\n",
      "https://www.facebook.com/pocketly.in/photos/a.469622424434011/825311148865135/\n",
      "https://www.facebook.com/pocketly.in/posts/pfbid0Rk37HMyVR1hopDNsoKakDTTzAEz1RakiXxkVR7PvWEKGRtf8xhBqiqLVgKF3jKafl\n",
      "https://www.facebook.com/pocketly.in/posts/pfbid02KS5C2zxZ1oBtW5ttEJndRgqzUi5psMHW1YUJNXLLgcGrE9ZrN4jLSbVYCSqqFkdMl\n",
      "https://www.facebook.com/pocketly.in/posts/pfbid05VoxoWhoRf3vcungj7eikiSzyvc9uQe4FLocRRuWazaYeCcvRKkDW9DuiGHRyMAKl\n",
      "https://www.facebook.com/pocketly.in/posts/pfbid0YiSboqkwAar9gR2trj536pjSq6Cb2jc8HBeQbBNtDHUKFtRuGQM2mTywMwu5y9N8l\n",
      "https://www.facebook.com/pocketly.in/posts/pfbid0V1JH7pa27phxMvseayaT4MgEcLWL5wTsh5wT1DfvZUDdPVfSXv1F88Lef4Frinkil\n",
      "https://www.facebook.com/pocketly.in/posts/pfbid02VhGWKYGGdXpa2HjxpiCFfqaYzU1jWoepe9venKUhU4S5uVTrf7pGkYitkdJHJZPMl\n",
      "https://www.facebook.com/pocketly.in/posts/pfbid0HbhkepkEDUqqhyfUwRPA6KAqLXEiLECBn6uQrgZvUp45yAnKR8beENxATHcTwHPBl\n",
      "https://www.facebook.com/pocketly.in/posts/pfbid02WBZ4U2ju5ZN5xnTyyA5eU2KCFajrJegBJP648mnenHCPq2byuybexzaoQvBXuyLKl\n",
      "https://www.facebook.com/pocketly.in/posts/pfbid0swNJrsr6tcxY6ShqTCrGsEmusXL3JWHkgpsQrogbjJCZVtmWAzrjkQgaup3pq6Pnl\n",
      "https://www.facebook.com/pocketly.in/posts/pfbid035iavDYa1LefgCthx5JsTFgttHfA5ZVypTfvibkff86qNamfppQ9NkzuymoQi6J43l\n",
      "https://www.facebook.com/pocketly.in/posts/pfbid02tzR5pBV4FssJdiKGSAZ8a65ocZ9ioDH3WfRddDNyzFYx8vfywmSHzhCXYoe2qk6gl\n",
      "https://www.facebook.com/pocketly.in/posts/pfbid022vX3c1Sd57ymtXDB855xbCK6qmk3PRcrVNKXTV2rfdsYVWkkgLnefmz1KzcgAaJml\n",
      "https://www.facebook.com/pocketly.in/posts/pfbid0x9TDRqgPo9MDhNkBJvHLJ1PbQeYmZri7KEKBL2YHKn8BwbYacTvbMgrK9SPctpEsl\n",
      "https://www.facebook.com/pocketly.in/posts/pfbid036k73qzuBJNthHdnJyYgWSJnDNEyHpyxeFH7gc7YeRRGdTZMNA16vqjoD1DFrSy9Wl\n",
      "https://www.facebook.com/pocketly.in/posts/pfbid0Do6hPSBUudJqYH9zV8mZWcajzWPi9jycw3SDLRfLhP5qujnhZeUc5evck3mLvgxzl\n",
      "https://www.facebook.com/pocketly.in/posts/pfbid02jxXy4kP52hAq4k6VUj9i3ZZ3sfaMwuFjxPGNifQDufMDxP6J8W9T2DuiSENfWCTkl\n",
      "https://www.facebook.com/pocketly.in/posts/pfbid02aKhxgw3QQHcnYaAc7vcDhgUj19jeoc1u7vFrwq3m78xqCGGQwQg8oicKAT1emFkUl\n",
      "https://www.facebook.com/pocketly.in/posts/pfbid032KF4vZQMcfrXaaRwSa39eFRZMBN1mLJdHqGCz5DB31jxjNVqEtcrNpng8WZpdAu8l\n",
      "https://www.facebook.com/pocketly.in/posts/pfbid0hJ19sCL8pMMQxHMuJS4A8wUWii11fckR9NQsGCcqJL5zf68PxwLE9W5FgBNkUMA3l\n",
      "https://www.facebook.com/pocketly.in/posts/pfbid0bTZWZ8QZoMaJUuH6EmiPhcH1Brt7Dpyzpow4gNeDN1msaCgvNHNr1sYaDdBs1FbQl\n",
      "https://www.facebook.com/pocketly.in/posts/pfbid021pXEiUontTDV7soGaoTCHoTexfMFEk5SScx2X3YQDGbmjwWtqDYjPDWB8M1L8zf9l\n",
      "https://www.facebook.com/pocketly.in/posts/701984821197769\n",
      "https://www.facebook.com/pocketly.in/posts/pfbid0Z8aTQdZ8LQDjf419Pswt27brawqdSTERyFvLiWwRNKztL1cScgyYyibCgacyXo8Gl\n",
      "https://www.facebook.com/pocketly.in/posts/pfbid02GiGHt9NDXBudvdnRgxUNPPheDQvXJT7n6UGQzseFXYqKoQFC3CYQX7V3A23qu4UMl\n",
      "https://www.facebook.com/pocketly.in/posts/pfbid02DxVQGsq39zT1ee5F7m7t7Wfnn33pFxCZPpvLg9Xp4iwnz4uaLpRCzd3RGb93CymFl\n",
      "https://www.facebook.com/pocketly.in/posts/666519444744307\n",
      "https://www.facebook.com/pocketly.in/posts/pfbid0LXCSCbjYtNwvFLycDZMgasadAHnwkRi7c9WrQXx9j4fzCbey4Dhdyo3dsXLLXc8al\n",
      "https://www.facebook.com/pocketly.in/posts/pfbid024jMtXodN9UHZ44nmuYAAdjsJb2Qc4MffBuPwJfWCLzFhqUcvk6VLu6EF3pwRXvFEl\n",
      "https://www.facebook.com/pocketly.in/posts/pfbid0hUVEcenVwfiyf5KWLypuhFeZd6hcVnkuuuG9ddiFaTTsEgsfJNVf197RhZFGF2EZl\n",
      "https://www.facebook.com/pocketly.in/posts/pfbid029g9SLmvSCjnhNeugujqFpXCGmTp3hMFqBvKzUYDtGx2qRQuqVu3RFciNT5JKyUPZl\n",
      "https://www.facebook.com/pocketly.in/posts/522017235861196\n",
      "https://www.facebook.com/pocketly.in/posts/pfbid02SyMJDiZG3eYx6ZiV3FhmFPNLEX6uJiy3taGE22PWKvx6km5tWdcuc6VXE5xoAD5il\n",
      "https://www.facebook.com/pocketly.in/posts/pfbid0tEQU1jE3ZHhcUkEmGQJXQM5sqmt45zPh7yY9Nu3gwacHnTvpWX5kmwUas3Bk7c6Zl\n",
      "https://www.facebook.com/pocketly.in/posts/512538826809037\n",
      "https://www.facebook.com/pocketly.in/posts/pfbid02DnTHdprDkxUXAmdrxuKsrEYHp17byfhsLW2oTDXFhUV1CMuUvXK4qViXvBBaMjVl\n",
      "https://www.facebook.com/pocketly.in/posts/pfbid02Fcho6C7PD7WKkpZvPbEmUMYyfTfKfQrN3tyCQGLYPWypX6JtQ2jfXemwJaVZNtJdl\n",
      "https://www.facebook.com/pocketly.in/posts/499691658093754:563889548751368\n",
      "https://www.facebook.com/pocketly.in/posts/pfbid0239qpJjX8LAkjHGDVGjS5yKGexc1khP3FL6yDzat6twr6jb2XfWVsbeUhBQqFgA2Ql\n",
      "https://www.facebook.com/pocketly.in/posts/497549464974640\n",
      "https://www.facebook.com/pocketly.in/posts/pfbid0MtA2XtmWFkhXdv63XuKcPwjErBFxrWCKuxEqfEPLd1KLeTGL6hwDEUoQW5MqNx7yl\n",
      "https://www.facebook.com/pocketly.in/posts/pfbid02iRxy3cvwxppUFB7uJAYJCdWfxPJ2o1rav4vEF2SaUoKbzGvc37bhJs1NYUptF6qRl\n",
      "https://www.facebook.com/pocketly.in/posts/pfbid02eh5Go82YDcxZdV4veR9ggQ7dYtYR6ME96MJjQuHEGdU3FXSFVdnAH77q6EGA26zfl\n",
      "https://www.facebook.com/pocketly.in/posts/pfbid028FupXQFEywy7ioo3caXfavR54qLKFKUZBSkMAa4DqxkPF1p7mjvZ7uZdnMAWc3bsl\n",
      "https://www.facebook.com/pocketly.in/posts/pfbid0jPE6nA5yJtLcy3mrVrUxwKE3Qugo9wG8E27Q5f6bTgkfxhVzHyBAtoRAAeEt5Bt4l\n",
      "https://www.facebook.com/pocketly.in/posts/pfbid02fdgLmDkkZiRfjwhxEapwJzWiEWjFeBHzcKxD2N8jusXVZosu5RpyRHxXDm7oFS4il\n",
      "https://www.facebook.com/pocketly.in/posts/pfbid02CuSbHaw2CXMJmERZ68NgaRakMokkZGufnT1NNQ2ogjA5uP7thBRG5g9TY22tNtm8l\n",
      "https://www.facebook.com/pocketly.in/posts/pfbid0W9G6tzno1kvY5843gJbCCdbMR8SdFo26YFjHsdeTVPQcbqQtPygHpt5cQhMBS5dvl\n",
      "https://www.facebook.com/pocketly.in/posts/pfbid028DqSpKGRW828WmZN7gjTfpGxknTLJt7TpwjBtMjCZbUFfznkJmTHnRe9zDCovsFDl\n",
      "https://www.facebook.com/pocketly.in/posts/pfbid02XpEpnyjbpArCyFGnST24UdhBdfQ73ZSTqdypoA47hNSTf1SbVHW6Sug88TDyyDyBl\n",
      "https://www.facebook.com/pocketly.in/posts/pfbid0ajJBQhKnXKYxbFET9Zf17XMBkNkCTsUkdz1MfhVVJmEwntQ5joWK61TrXmX7qeZ6l\n",
      "https://www.facebook.com/pocketly.in/posts/pfbid0Ro6U137BQiZWhvvmz3G4An4TZuTq34NL93uZDQkYbTgxdv9rvzVFrgbdtPNpycGsl\n",
      "https://www.facebook.com/pocketly.in/posts/pfbid05kfPRqi3qkZc5vu9QSdt6TwWXqfz3ogpDpqsR6tQ2c5EBbvsYx4X2h9UPUy78eLil\n",
      "https://www.facebook.com/pocketly.in/posts/pfbid04nJwuGGLobowizKtkuyS9UGzYsk5bihYMnDQjixfNgj3yoW8HiaTSfLkiqLibuxRl\n",
      "https://www.facebook.com/pocketly.in/posts/pfbid035QtnCiJWwfarjNHNFVAr7bedpLw9YYGnfEffzMf25tPau19kE2zm6aqypR1294ywl\n",
      "https://www.facebook.com/pocketly.in/posts/pfbid02Krkjz3Aifb3k6MMpd2fLGdNVXbK4XezgrBGziAk7ahv6twiCydmWLPdiDZwYnvxCl\n",
      "https://www.facebook.com/pocketly.in/posts/pfbid034WUNTS2hKzoL2S6iHqxwsT8GsZC8xrk7AGQfAF5gjg13W9APWyRYEFTjYAiQs5azl\n",
      "https://www.facebook.com/pocketly.in/posts/1114430799494633:1114430799494633\n",
      "https://www.facebook.com/pocketly.in/posts/pfbid0Kb91iH97Lq85E8zhKZRo2DfNpufgQtr6fSgv4A4SbThdfwKszquAF3bV2DvZt7tnl\n",
      "https://www.facebook.com/pocketly.in/photos/a.469622424434011/471585287571058/\n",
      "https://www.facebook.com/pocketly.in/posts/pfbid0NrWU4UDDJ2JA5MPAwyKJKBCpnX4q2cpjvXhQcs2B7f2Uh3E9YaJyo5QkQP8niGUil\n",
      "https://www.facebook.com/pocketly.in/posts/pfbid02Hw9BKgBx2xSyx22BW5PYNNm1ZAWWZNLzRqp9oGywPRii9WxQNry44pqSHo4TfAGcl\n",
      "https://www.facebook.com/pocketly.in/posts/118198946243029:610032607229766\n"
     ]
    }
   ],
   "source": [
    "import pandas as pd\n",
    "\n",
    "df = pd.read_csv('dataset_facebook.csv')\n",
    "\n",
    "# add a column date_time_or_something to the dataframe\n",
    "df['date_time_or_something'] = ''\n",
    "\n",
    "for link in df['url']:\n",
    "    print(link)"
   ]
  },
  {
   "cell_type": "code",
   "execution_count": 22,
   "metadata": {},
   "outputs": [
    {
     "name": "stdout",
     "output_type": "stream",
     "text": [
      "2 October at 21:41\n"
     ]
    }
   ],
   "source": [
    "txt = '''\n",
    " \n",
    "Pocketly\n",
    "2 October at 21:41\n",
    " \n",
    " · \n",
    "Happy Gandhi Jayanti\n",
    "-Team Pocketly\n",
    "Download Pocketly App Now!\n",
    ".\n",
    ".\n",
    ".\n",
    "#gandhijayanti #mahatmagandhi #gandhi #india #gandhiji #gandhiquotes #october #happygandhijayanti #fatherofthenation #freedom #bapu #mahatma #love #peace #indian #fatherofnation #ndoctober #nonviolence #gandhijayantispecial #bhfyp #mahatmagandhiquotes #gandhijayanthi #follow #narendramodi #gandhinagar #gandhiashram #ahmedabad #freedomfighter #pocketly\n",
    "All reactions:\n",
    "7\n",
    "7\n",
    "8\n",
    "Like\n",
    "Comment\n",
    "Share\n",
    "8 comments\n",
    "Most relevant﻿\n",
    "\n",
    "\n",
    "\n",
    "\n",
    "Write a comment…\n",
    "Manish Kumar\n",
    "Your bank server is down since 24 hours and 24 hours is completed. please fix it soon\n",
    "Like\n",
    "Reply\n",
    "1 w\n",
    "Shubham Thakur\n",
    "Server is down plz fix fast\n",
    "Like\n",
    "Reply\n",
    "1 w\n",
    "Sudip Halder\n",
    "Like\n",
    "Reply\n",
    "1 w\n",
    "Sudip Halder\n",
    "Fixed the surver right now\n",
    "Like\n",
    "Reply\n",
    "1 w\n",
    "Vineet Kumar\n",
    "Your server is down. Please fix it soon.\n",
    "Like\n",
    "Reply\n",
    "1 w\n",
    "Sudip Halder\n",
    "Fix the surver right now\n",
    "Like\n",
    "Reply\n",
    "1 w\n",
    "Sudip Halder\n",
    "Server is down fix it fast\n",
    "Like\n",
    "Reply\n",
    "1 w\n",
    "\"Most relevant\" is selected, so some comments may have been filtered out.\n",
    "'''\n",
    "print(txt.split('\\n')[3])"
   ]
  },
  {
   "cell_type": "code",
   "execution_count": null,
   "metadata": {},
   "outputs": [],
   "source": []
  },
  {
   "cell_type": "code",
   "execution_count": 14,
   "metadata": {},
   "outputs": [
    {
     "data": {
      "text/plain": [
       "'\\n\\xa0 · -------2\\xa0O----c-t---o--b-e-r--\\xa0at-----\\xa0---2-----1:-4-1-\\xa0 · Shared with Public\\n'"
      ]
     },
     "execution_count": 14,
     "metadata": {},
     "output_type": "execute_result"
    }
   ],
   "source": [
    "txt = \"\"\"\n",
    "<span class=\"x193iq5w xeuugli x13faqbe x1vvkbs x1xmvt09 x1lliihq x1s928wv xhkezso x1gmr53x x1cpjm7i x1fgarty x1943h6x x4zkp8e x676frb x1nxh6w3 x1sibtaa xo1l8bm xi81zsa x1yc453h\" dir=\"auto\"><span id=\":r14:\"><span class=\"xh99ass\"><span><span class=\"xzpqnlu xjm9jq1 x6ikm8r x10wlt62 x10l6tqk x1i1rx1s\">&nbsp;</span><span aria-hidden=\"true\"> · </span></span></span><span><span class=\"x4k7w5x x1h91t0o x1h9r5lt x1jfb8zj xv2umb2 x1beo9mf xaigb6o x12ejxvf x3igimt xarpa2k xedcshv x1lytzrv x1t2pt76 x7ja8zs x1qrby5j\"><a class=\"x1i10hfl xjbqb8w x6umtig x1b1mbwd xaqea5y xav7gou x9f619 x1ypdohk xt0psk2 xe8uvvx xdj266r x11i5rnm xat24cr x1mh8g0r xexx8yu x4uap5 x18d9i69 xkhd6sd x16tdsg8 x1hl2dhg xggy1nq x1a2a7pz x1heor9g xt0b8zv xo1l8bm\" href=\"#\" role=\"link\" tabindex=\"0\"><span><span aria-labelledby=\":r1b:\" class=\"x1rg5ohu x6ikm8r x10wlt62 x16dsc37 xt0b8zv\"><b class=\"xmper1u xt0psk2 xjb2p0i x1qlqyl8 x15bjb6t x1n2onr6 x17ihmo5\"><b class=\"x1qlqyl8 x15bjb6t x1r8a4m5 xi7du73 x1n2onr6 x17ihmo5 bw7X6XL\" style=\"display: none;\">-</b><b class=\"x1qlqyl8 x15bjb6t x1r8a4m5 xi7du73 x1n2onr6 x17ihmo5 bw7X6XL\" style=\"display: none;\">-</b><b class=\"x1qlqyl8 x15bjb6t x1r8a4m5 xi7du73 x1n2onr6 x17ihmo5 bw7X6XL\" style=\"display: none;\">-</b><b class=\"x1qlqyl8 x15bjb6t x1r8a4m5 xi7du73 x1n2onr6 x17ihmo5 bw7X6XL\" style=\"display: none;\">-</b><b class=\"x1qlqyl8 x15bjb6t x1r8a4m5 xi7du73 x1n2onr6 x17ihmo5 bw7X6XL\" style=\"display: none;\">-</b><b class=\"x1qlqyl8 x15bjb6t x1r8a4m5 xi7du73 x1n2onr6 x17ihmo5 bw7X6XL\" style=\"display: none;\">-</b><b class=\"x1qlqyl8 x15bjb6t x1r8a4m5 xi7du73 x1n2onr6 x17ihmo5 bw7X6XL\" style=\"display: none;\">-</b><b class=\"xmper1u x1qlqyl8 x1r8a4m5 x1n2onr6 x17ihmo5\">2</b><b class=\"xmper1u xt0psk2 xjb2p0i x1qlqyl8 x15bjb6t x1n2onr6 x17ihmo5\">&nbsp;</b><b class=\"x1r8a4m5 x1n2onr6 x17ihmo5\">O</b><b class=\"x1qlqyl8 x15bjb6t x1r8a4m5 xi7du73 x1n2onr6 x17ihmo5 bw7X6XL\" style=\"display: none;\">-</b><b class=\"x1qlqyl8 x15bjb6t x1r8a4m5 xi7du73 x1n2onr6 x17ihmo5 bw7X6XL\" style=\"display: none;\">-</b><b class=\"x1qlqyl8 x15bjb6t x1r8a4m5 xi7du73 x1n2onr6 x17ihmo5 bw7X6XL\" style=\"display: none;\">-</b><b class=\"x1qlqyl8 x15bjb6t x1r8a4m5 xi7du73 x1n2onr6 x17ihmo5 bw7X6XL\" style=\"display: none;\">-</b><b class=\"xt0psk2 x1qlqyl8 x1n2onr6 x17ihmo5\">c</b><b class=\"x1qlqyl8 x15bjb6t x1r8a4m5 xi7du73 x1n2onr6 x17ihmo5 bw7X6XL\" style=\"display: none;\">-</b><b class=\"xjb2p0i x1r8a4m5 x1n2onr6 x17ihmo5\">t</b><b class=\"x1qlqyl8 x15bjb6t x1r8a4m5 xi7du73 x1n2onr6 x17ihmo5 bw7X6XL\" style=\"display: none;\">-</b><b class=\"x1qlqyl8 x15bjb6t x1r8a4m5 xi7du73 x1n2onr6 x17ihmo5 bw7X6XL\" style=\"display: none;\">-</b><b class=\"x1qlqyl8 x15bjb6t x1r8a4m5 xi7du73 x1n2onr6 x17ihmo5 bw7X6XL\" style=\"display: none;\">-</b><b class=\"x1r8a4m5 x1n2onr6 x17ihmo5\">o</b><b class=\"x1qlqyl8 x15bjb6t x1r8a4m5 xi7du73 x1n2onr6 x17ihmo5 bw7X6XL\" style=\"display: none;\">-</b><b class=\"x1qlqyl8 x15bjb6t x1r8a4m5 xi7du73 x1n2onr6 x17ihmo5 bw7X6XL\" style=\"display: none;\">-</b><b class=\"xmper1u x1qlqyl8 x1r8a4m5 x1n2onr6 x17ihmo5\">b</b><b class=\"x1qlqyl8 x15bjb6t x1r8a4m5 xi7du73 x1n2onr6 x17ihmo5 bw7X6XL\" style=\"display: none;\">-</b><b class=\"x1qlqyl8 x15bjb6t x1r8a4m5 xi7du73 x1n2onr6 x17ihmo5\">e</b><b class=\"x1qlqyl8 x15bjb6t x1r8a4m5 xi7du73 x1n2onr6 x17ihmo5 bw7X6XL\" style=\"display: none;\">-</b><b class=\"xmper1u x1qlqyl8 x1r8a4m5 x1n2onr6 x17ihmo5\">r</b><b class=\"x1qlqyl8 x15bjb6t x1r8a4m5 xi7du73 x1n2onr6 x17ihmo5 bw7X6XL\" style=\"display: none;\">-</b><b class=\"x1qlqyl8 x15bjb6t x1r8a4m5 xi7du73 x1n2onr6 x17ihmo5 bw7X6XL\" style=\"display: none;\">-</b><b class=\"xmper1u xt0psk2 xjb2p0i x1qlqyl8 x15bjb6t x1n2onr6 x17ihmo5\">&nbsp;</b><b class=\"xmper1u x15bjb6t xi7du73 x1n2onr6 x17ihmo5\">a</b><b class=\"xjb2p0i x1r8a4m5 x1n2onr6 x17ihmo5\">t</b><b class=\"x1qlqyl8 x15bjb6t x1r8a4m5 xi7du73 x1n2onr6 x17ihmo5 bw7X6XL\" style=\"display: none;\">-</b><b class=\"x1qlqyl8 x15bjb6t x1r8a4m5 xi7du73 x1n2onr6 x17ihmo5 bw7X6XL\" style=\"display: none;\">-</b><b class=\"x1qlqyl8 x15bjb6t x1r8a4m5 xi7du73 x1n2onr6 x17ihmo5 bw7X6XL\" style=\"display: none;\">-</b><b class=\"x1qlqyl8 x15bjb6t x1r8a4m5 xi7du73 x1n2onr6 x17ihmo5 bw7X6XL\" style=\"display: none;\">-</b><b class=\"x1qlqyl8 x15bjb6t x1r8a4m5 xi7du73 x1n2onr6 x17ihmo5 bw7X6XL\" style=\"display: none;\">-</b><b class=\"xmper1u xt0psk2 xjb2p0i x1qlqyl8 x15bjb6t x1n2onr6 x17ihmo5\">&nbsp;</b><b class=\"x1qlqyl8 x15bjb6t x1r8a4m5 xi7du73 x1n2onr6 x17ihmo5 bw7X6XL\" style=\"display: none;\">-</b><b class=\"x1qlqyl8 x15bjb6t x1r8a4m5 xi7du73 x1n2onr6 x17ihmo5 bw7X6XL\" style=\"display: none;\">-</b><b class=\"x1qlqyl8 x15bjb6t x1r8a4m5 xi7du73 x1n2onr6 x17ihmo5 bw7X6XL\" style=\"display: none;\">-</b><b class=\"xmper1u x1qlqyl8 x1r8a4m5 x1n2onr6 x17ihmo5\">2</b><b class=\"x1qlqyl8 x15bjb6t x1r8a4m5 xi7du73 x1n2onr6 x17ihmo5 bw7X6XL\" style=\"display: none;\">-</b><b class=\"x1qlqyl8 x15bjb6t x1r8a4m5 xi7du73 x1n2onr6 x17ihmo5 bw7X6XL\" style=\"display: none;\">-</b><b class=\"x1qlqyl8 x15bjb6t x1r8a4m5 xi7du73 x1n2onr6 x17ihmo5 bw7X6XL\" style=\"display: none;\">-</b><b class=\"x1qlqyl8 x15bjb6t x1r8a4m5 xi7du73 x1n2onr6 x17ihmo5 bw7X6XL\" style=\"display: none;\">-</b><b class=\"x1qlqyl8 x15bjb6t x1r8a4m5 xi7du73 x1n2onr6 x17ihmo5 bw7X6XL\" style=\"display: none;\">-</b><b class=\"xmper1u x15bjb6t xi7du73 x1n2onr6 x17ihmo5\">1</b><b class=\"xmper1u x1qlqyl8 x1r8a4m5 x1n2onr6 x17ihmo5\">:</b><b class=\"x1qlqyl8 x15bjb6t x1r8a4m5 xi7du73 x1n2onr6 x17ihmo5 bw7X6XL\" style=\"display: none;\">-</b><b class=\"xjb2p0i x1r8a4m5 x1n2onr6 x17ihmo5\">4</b><b class=\"x1qlqyl8 x15bjb6t x1r8a4m5 xi7du73 x1n2onr6 x17ihmo5 bw7X6XL\" style=\"display: none;\">-</b><b class=\"xmper1u x15bjb6t xi7du73 x1n2onr6 x17ihmo5\">1</b><b class=\"x1qlqyl8 x15bjb6t x1r8a4m5 xi7du73 x1n2onr6 x17ihmo5 bw7X6XL\" style=\"display: none;\">-</b></b></span></span></a></span></span><span class=\"xh99ass\"><span><span class=\"xzpqnlu xjm9jq1 x6ikm8r x10wlt62 x10l6tqk x1i1rx1s\">&nbsp;</span><span aria-hidden=\"true\"> · </span></span></span><span class=\"xuxw1ft\"><span class=\"x4k7w5x x1h91t0o x1h9r5lt x1jfb8zj xv2umb2 x1beo9mf xaigb6o x12ejxvf x3igimt xarpa2k xedcshv x1lytzrv x1t2pt76 x7ja8zs x1qrby5j\"><span class=\"x1rg5ohu x1n2onr6 xs7f9wi\"><svg fill=\"currentColor\" viewBox=\"0 0 16 16\" width=\"1em\" height=\"1em\" class=\"x1lliihq x1k90msu x2h7rmj x1qfuztq xcza8v6 x1kpxq89 xsmyaan\" title=\"Shared with Public\"><title>Shared with Public</title><g fill-rule=\"evenodd\" transform=\"translate(-448 -544)\"><g><path d=\"M109.5 408.5c0 3.23-2.04 5.983-4.903 7.036l.07-.036c1.167-1 1.814-2.967 2-3.834.214-1 .303-1.3-.5-1.96-.31-.253-.677-.196-1.04-.476-.246-.19-.356-.59-.606-.73-.594-.337-1.107.11-1.954.223a2.666 2.666 0 0 1-1.15-.123c-.007 0-.007 0-.013-.004l-.083-.03c-.164-.082-.077-.206.006-.36h-.006c.086-.17.086-.376-.05-.529-.19-.214-.54-.214-.804-.224-.106-.003-.21 0-.313.004l-.003-.004c-.04 0-.084.004-.124.004h-.037c-.323.007-.666-.034-.893-.314-.263-.353-.29-.733.097-1.09.28-.26.863-.8 1.807-.22.603.37 1.166.667 1.666.5.33-.11.48-.303.094-.87a1.128 1.128 0 0 1-.214-.73c.067-.776.687-.84 1.164-1.2.466-.356.68-.943.546-1.457-.106-.413-.51-.873-1.28-1.01a7.49 7.49 0 0 1 6.524 7.434\" transform=\"translate(354 143.5)\"></path><path d=\"M104.107 415.696A7.498 7.498 0 0 1 94.5 408.5a7.48 7.48 0 0 1 3.407-6.283 5.474 5.474 0 0 0-1.653 2.334c-.753 2.217-.217 4.075 2.29 4.075.833 0 1.4.561 1.333 2.375-.013.403.52 1.78 2.45 1.89.7.04 1.184 1.053 1.33 1.74.06.29.127.65.257.97a.174.174 0 0 0 .193.096\" transform=\"translate(354 143.5)\"></path><path fill-rule=\"nonzero\" d=\"M110 408.5a8 8 0 1 1-16 0 8 8 0 0 1 16 0zm-1 0a7 7 0 1 0-14 0 7 7 0 0 0 14 0z\" transform=\"translate(354 143.5)\"></path></g></g></svg></span></span></span></span></span>\n",
    "\"\"\"\n",
    "from bs4 import  BeautifulSoup\n",
    "soup=BeautifulSoup(txt,'html.parser')\n",
    "txt = soup.text \n",
    "txt"
   ]
  },
  {
   "cell_type": "code",
   "execution_count": 19,
   "metadata": {},
   "outputs": [
    {
     "name": "stdout",
     "output_type": "stream",
     "text": [
      "2 October at 21:41\n"
     ]
    }
   ],
   "source": [
    "txt.split('\\n')[3]"
   ]
  },
  {
   "cell_type": "code",
   "execution_count": 13,
   "metadata": {},
   "outputs": [
    {
     "data": {
      "text/plain": [
       "'\\n  · 2 October at 21:41  · Shared with Public\\n'"
      ]
     },
     "execution_count": 13,
     "metadata": {},
     "output_type": "execute_result"
    }
   ],
   "source": [
    "# txt = \"'2--0-------\\xa0----S-e-p-tem--be-r\\xa0-----at------\\xa0--15----:---04----'\"\n",
    "\n",
    "\n",
    "txt.replace(\"-\", '').replace(\"\\xa0\", ' ')"
   ]
  },
  {
   "cell_type": "code",
   "execution_count": 23,
   "metadata": {},
   "outputs": [
    {
     "ename": "KeyError",
     "evalue": "'xa0Septemberxa0atxa'",
     "output_type": "error",
     "traceback": [
      "\u001b[1;31m---------------------------------------------------------------------------\u001b[0m",
      "\u001b[1;31mKeyError\u001b[0m                                  Traceback (most recent call last)",
      "\u001b[1;32mc:\\Users\\saket\\Documents\\GitHub\\Pyhton\\i3access\\scraping\\facebook scraper\\get timestamp .ipynb Cell 13\u001b[0m line \u001b[0;36m1\n\u001b[0;32m     <a href='vscode-notebook-cell:/c%3A/Users/saket/Documents/GitHub/Pyhton/i3access/scraping/facebook%20scraper/get%20timestamp%20.ipynb#X14sZmlsZQ%3D%3D?line=12'>13</a>\u001b[0m     \u001b[39m# return the fixed date\u001b[39;00m\n\u001b[0;32m     <a href='vscode-notebook-cell:/c%3A/Users/saket/Documents/GitHub/Pyhton/i3access/scraping/facebook%20scraper/get%20timestamp%20.ipynb#X14sZmlsZQ%3D%3D?line=13'>14</a>\u001b[0m     \u001b[39mreturn\u001b[39;00m \u001b[39mf\u001b[39m\u001b[39m\"\u001b[39m\u001b[39m{\u001b[39;00mday\u001b[39m}\u001b[39;00m\u001b[39m \u001b[39m\u001b[39m{\u001b[39;00mmonth\u001b[39m}\u001b[39;00m\u001b[39m at \u001b[39m\u001b[39m{\u001b[39;00mtime\u001b[39m}\u001b[39;00m\u001b[39m\"\u001b[39m\n\u001b[1;32m---> <a href='vscode-notebook-cell:/c%3A/Users/saket/Documents/GitHub/Pyhton/i3access/scraping/facebook%20scraper/get%20timestamp%20.ipynb#X14sZmlsZQ%3D%3D?line=15'>16</a>\u001b[0m fix_date(txt)\n",
      "\u001b[1;32mc:\\Users\\saket\\Documents\\GitHub\\Pyhton\\i3access\\scraping\\facebook scraper\\get timestamp .ipynb Cell 13\u001b[0m line \u001b[0;36m1\n\u001b[0;32m      <a href='vscode-notebook-cell:/c%3A/Users/saket/Documents/GitHub/Pyhton/i3access/scraping/facebook%20scraper/get%20timestamp%20.ipynb#X14sZmlsZQ%3D%3D?line=7'>8</a>\u001b[0m \u001b[39m# convert the month to a three-letter abbreviation\u001b[39;00m\n\u001b[0;32m      <a href='vscode-notebook-cell:/c%3A/Users/saket/Documents/GitHub/Pyhton/i3access/scraping/facebook%20scraper/get%20timestamp%20.ipynb#X14sZmlsZQ%3D%3D?line=8'>9</a>\u001b[0m months \u001b[39m=\u001b[39m {\u001b[39m\"\u001b[39m\u001b[39mJanuary\u001b[39m\u001b[39m\"\u001b[39m: \u001b[39m\"\u001b[39m\u001b[39mJan\u001b[39m\u001b[39m\"\u001b[39m, \u001b[39m\"\u001b[39m\u001b[39mFebruary\u001b[39m\u001b[39m\"\u001b[39m: \u001b[39m\"\u001b[39m\u001b[39mFeb\u001b[39m\u001b[39m\"\u001b[39m, \u001b[39m\"\u001b[39m\u001b[39mMarch\u001b[39m\u001b[39m\"\u001b[39m: \u001b[39m\"\u001b[39m\u001b[39mMar\u001b[39m\u001b[39m\"\u001b[39m, \u001b[39m\"\u001b[39m\u001b[39mApril\u001b[39m\u001b[39m\"\u001b[39m: \u001b[39m\"\u001b[39m\u001b[39mApr\u001b[39m\u001b[39m\"\u001b[39m, \u001b[39m\"\u001b[39m\u001b[39mMay\u001b[39m\u001b[39m\"\u001b[39m: \u001b[39m\"\u001b[39m\u001b[39mMay\u001b[39m\u001b[39m\"\u001b[39m, \u001b[39m\"\u001b[39m\u001b[39mJune\u001b[39m\u001b[39m\"\u001b[39m: \u001b[39m\"\u001b[39m\u001b[39mJun\u001b[39m\u001b[39m\"\u001b[39m, \u001b[39m\"\u001b[39m\u001b[39mJuly\u001b[39m\u001b[39m\"\u001b[39m: \u001b[39m\"\u001b[39m\u001b[39mJul\u001b[39m\u001b[39m\"\u001b[39m, \u001b[39m\"\u001b[39m\u001b[39mAugust\u001b[39m\u001b[39m\"\u001b[39m: \u001b[39m\"\u001b[39m\u001b[39mAug\u001b[39m\u001b[39m\"\u001b[39m, \u001b[39m\"\u001b[39m\u001b[39mSeptember\u001b[39m\u001b[39m\"\u001b[39m: \u001b[39m\"\u001b[39m\u001b[39mSep\u001b[39m\u001b[39m\"\u001b[39m, \u001b[39m\"\u001b[39m\u001b[39mOctober\u001b[39m\u001b[39m\"\u001b[39m: \u001b[39m\"\u001b[39m\u001b[39mOct\u001b[39m\u001b[39m\"\u001b[39m, \u001b[39m\"\u001b[39m\u001b[39mNovember\u001b[39m\u001b[39m\"\u001b[39m: \u001b[39m\"\u001b[39m\u001b[39mNov\u001b[39m\u001b[39m\"\u001b[39m, \u001b[39m\"\u001b[39m\u001b[39mDecember\u001b[39m\u001b[39m\"\u001b[39m: \u001b[39m\"\u001b[39m\u001b[39mDec\u001b[39m\u001b[39m\"\u001b[39m}\n\u001b[1;32m---> <a href='vscode-notebook-cell:/c%3A/Users/saket/Documents/GitHub/Pyhton/i3access/scraping/facebook%20scraper/get%20timestamp%20.ipynb#X14sZmlsZQ%3D%3D?line=9'>10</a>\u001b[0m month \u001b[39m=\u001b[39m months[month]\n\u001b[0;32m     <a href='vscode-notebook-cell:/c%3A/Users/saket/Documents/GitHub/Pyhton/i3access/scraping/facebook%20scraper/get%20timestamp%20.ipynb#X14sZmlsZQ%3D%3D?line=10'>11</a>\u001b[0m \u001b[39m# format the time as hh:mm\u001b[39;00m\n\u001b[0;32m     <a href='vscode-notebook-cell:/c%3A/Users/saket/Documents/GitHub/Pyhton/i3access/scraping/facebook%20scraper/get%20timestamp%20.ipynb#X14sZmlsZQ%3D%3D?line=11'>12</a>\u001b[0m time \u001b[39m=\u001b[39m \u001b[39mf\u001b[39m\u001b[39m\"\u001b[39m\u001b[39m{\u001b[39;00mtime[:\u001b[39m2\u001b[39m]\u001b[39m}\u001b[39;00m\u001b[39m:\u001b[39m\u001b[39m{\u001b[39;00mtime[\u001b[39m2\u001b[39m:]\u001b[39m}\u001b[39;00m\u001b[39m\"\u001b[39m\n",
      "\u001b[1;31mKeyError\u001b[0m: 'xa0Septemberxa0atxa'"
     ]
    }
   ],
   "source": [
    "txt = \"'2--0-------\\xa0----S-e-p-tem--be-r\\xa0-----at------\\xa0--15----:---04----'\".\n",
    "\n",
    "def fix_date(date):\n",
    "    # remove all non-alphanumeric characters\n",
    "    date = \"\".join(c for c in date if c.isalnum())\n",
    "    # split the date into day, month and time\n",
    "    day, month, time = date[:2], date[2:-5], date[-5:]\n",
    "    # convert the month to a three-letter abbreviation\n",
    "    months = {\"January\": \"Jan\", \"February\": \"Feb\", \"March\": \"Mar\", \"April\": \"Apr\", \"May\": \"May\", \"June\": \"Jun\", \"July\": \"Jul\", \"August\": \"Aug\", \"September\": \"Sep\", \"October\": \"Oct\", \"November\": \"Nov\", \"December\": \"Dec\"}\n",
    "    month = months[month]\n",
    "    # format the time as hh:mm\n",
    "    time = f\"{time[:2]}:{time[2:]}\"\n",
    "    # return the fixed date\n",
    "    return f\"{day} {month} at {time}\"\n",
    "\n",
    "fix_date(txt)"
   ]
  }
 ],
 "metadata": {
  "kernelspec": {
   "display_name": "base",
   "language": "python",
   "name": "python3"
  },
  "language_info": {
   "codemirror_mode": {
    "name": "ipython",
    "version": 3
   },
   "file_extension": ".py",
   "mimetype": "text/x-python",
   "name": "python",
   "nbconvert_exporter": "python",
   "pygments_lexer": "ipython3",
   "version": "3.11.5"
  }
 },
 "nbformat": 4,
 "nbformat_minor": 2
}
