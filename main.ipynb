{
 "cells": [
  {
   "cell_type": "code",
   "execution_count": 5,
   "metadata": {},
   "outputs": [],
   "source": [
    "# import requests and BeautifulSoup\n",
    "import requests\n",
    "from bs4 import BeautifulSoup\n",
    "\n",
    "# get the HTML code from the Facebook post\n",
    "html = requests.get('https://www.facebook.com/100068313372396/posts/457056626581446')\n",
    "\n",
    "# html = requests.get('https://www.facebook.com/photo?fbid=710406367777479&set=a.649986853819431')\n",
    "\n",
    "# html = requests.get('https://www.facebook.com/Paytm/posts/pfbid0Yi7XMXaJrzdytkJn4ZLT47xsFgXqDrkWo3jNNeyGeH9ZkUy5o4amsnZnBLEoKUsxl')\n",
    "\"https://www.facebook.com/Paytm/posts/pfbid02ka8rzM9PzvQ4EkHo5yVtxYcZrKmntrfDz7TzbmYXfZ7uUcrNEsPGKRbVxh5Av4ZUl\"\n",
    "html = requests.get('https://www.facebook.com/Paytm/posts/pfbid02ka8rzM9PzvQ4EkHo5yVtxYcZrKmntrfDz7TzbmYXfZ7uUcrNEsPGKRbVxh5Av4ZUl')\n",
    "# parse the HTML code with BeautifulSoup\n",
    "soup = BeautifulSoup(html.text, 'html.parser')\n",
    "\n",
    "# use the prettify method to make the HTML code more readable\n",
    "pretty_html = soup.prettify()\n",
    "\n",
    "# open a file in write mode with the desired name and encoding\n",
    "with open(\"facebook_post.html\", \"w\", encoding=\"utf-8\") as f:\n",
    "    # write the pretty HTML code to the file\n",
    "    f.write(pretty_html)\n"
   ]
  },
  {
   "cell_type": "code",
   "execution_count": null,
   "metadata": {},
   "outputs": [],
   "source": []
  },
  {
   "cell_type": "code",
   "execution_count": 2,
   "metadata": {},
   "outputs": [
    {
     "name": "stdout",
     "output_type": "stream",
     "text": [
      "2022-09-17 03:37:52\n"
     ]
    }
   ],
   "source": [
    "import datetime\n",
    "\n",
    "# Convert the timestamp to a datetime object\n",
    "timestamp = 1663366072\n",
    "datetime_object = datetime.datetime.fromtimestamp(timestamp)\n",
    "\n",
    "# Print the datetime object\n",
    "print(datetime_object)\n"
   ]
  },
  {
   "cell_type": "code",
   "execution_count": 7,
   "metadata": {},
   "outputs": [],
   "source": [
    "meSoPretty = soup.prettify()\n",
    "\n",
    "# save mesopretty to a html file\n",
    "# with open(\"test.html\", \"w\", encoding='utf-16') as f:\n",
    "#     f.write(str(meSoPretty.encoding('utf-16')))\n"
   ]
  },
  {
   "cell_type": "code",
   "execution_count": 4,
   "metadata": {},
   "outputs": [],
   "source": []
  },
  {
   "cell_type": "code",
   "execution_count": 1,
   "metadata": {},
   "outputs": [
    {
     "ename": "NameError",
     "evalue": "name 'soup' is not defined",
     "output_type": "error",
     "traceback": [
      "\u001b[1;31m---------------------------------------------------------------------------\u001b[0m",
      "\u001b[1;31mNameError\u001b[0m                                 Traceback (most recent call last)",
      "\u001b[1;32mc:\\Users\\saket\\Documents\\GitHub\\Pyhton\\i3access\\scraping\\facebook scraper\\main.ipynb Cell 10\u001b[0m line \u001b[0;36m1\n\u001b[1;32m----> <a href='vscode-notebook-cell:/c%3A/Users/saket/Documents/GitHub/Pyhton/i3access/scraping/facebook%20scraper/main.ipynb#X33sZmlsZQ%3D%3D?line=0'>1</a>\u001b[0m meSoPretty \u001b[39m=\u001b[39m soup\u001b[39m.\u001b[39mprettify()\n\u001b[0;32m      <a href='vscode-notebook-cell:/c%3A/Users/saket/Documents/GitHub/Pyhton/i3access/scraping/facebook%20scraper/main.ipynb#X33sZmlsZQ%3D%3D?line=2'>3</a>\u001b[0m \u001b[39m# save mesopretty to a html file\u001b[39;00m\n\u001b[0;32m      <a href='vscode-notebook-cell:/c%3A/Users/saket/Documents/GitHub/Pyhton/i3access/scraping/facebook%20scraper/main.ipynb#X33sZmlsZQ%3D%3D?line=3'>4</a>\u001b[0m \u001b[39mwith\u001b[39;00m \u001b[39mopen\u001b[39m(\u001b[39m\"\u001b[39m\u001b[39mtest.html\u001b[39m\u001b[39m\"\u001b[39m, \u001b[39m\"\u001b[39m\u001b[39mw\u001b[39m\u001b[39m\"\u001b[39m, encoding\u001b[39m=\u001b[39m\u001b[39m'\u001b[39m\u001b[39mutf-16\u001b[39m\u001b[39m'\u001b[39m) \u001b[39mas\u001b[39;00m f:\n",
      "\u001b[1;31mNameError\u001b[0m: name 'soup' is not defined"
     ]
    }
   ],
   "source": [
    "meSoPretty = soup.prettify()\n",
    "\n",
    "# save mesopretty to a html file\n",
    "with open(\"test.html\", \"w\", encoding='utf-16') as f:\n",
    "    f.write(str(meSoPretty.encoding('utf-16')))"
   ]
  },
  {
   "cell_type": "code",
   "execution_count": 3,
   "metadata": {},
   "outputs": [
    {
     "ename": "NameError",
     "evalue": "name 'meSoPretty' is not defined",
     "output_type": "error",
     "traceback": [
      "\u001b[1;31m---------------------------------------------------------------------------\u001b[0m",
      "\u001b[1;31mNameError\u001b[0m                                 Traceback (most recent call last)",
      "\u001b[1;32mc:\\Users\\saket\\Documents\\GitHub\\Pyhton\\i3access\\scraping\\facebook scraper\\main.ipynb Cell 11\u001b[0m line \u001b[0;36m6\n\u001b[0;32m      <a href='vscode-notebook-cell:/c%3A/Users/saket/Documents/GitHub/Pyhton/i3access/scraping/facebook%20scraper/main.ipynb#X31sZmlsZQ%3D%3D?line=3'>4</a>\u001b[0m \u001b[39m# save the beautiful date to a html file with \u001b[39;00m\n\u001b[0;32m      <a href='vscode-notebook-cell:/c%3A/Users/saket/Documents/GitHub/Pyhton/i3access/scraping/facebook%20scraper/main.ipynb#X31sZmlsZQ%3D%3D?line=4'>5</a>\u001b[0m \u001b[39mwith\u001b[39;00m \u001b[39mopen\u001b[39m(\u001b[39m\"\u001b[39m\u001b[39mtest.html\u001b[39m\u001b[39m\"\u001b[39m, \u001b[39m\"\u001b[39m\u001b[39mw\u001b[39m\u001b[39m\"\u001b[39m, encoding\u001b[39m=\u001b[39m\u001b[39m'\u001b[39m\u001b[39mutf-16\u001b[39m\u001b[39m'\u001b[39m) \u001b[39mas\u001b[39;00m f:\n\u001b[1;32m----> <a href='vscode-notebook-cell:/c%3A/Users/saket/Documents/GitHub/Pyhton/i3access/scraping/facebook%20scraper/main.ipynb#X31sZmlsZQ%3D%3D?line=5'>6</a>\u001b[0m     f\u001b[39m.\u001b[39mwrite(\u001b[39mstr\u001b[39m(meSoPretty\u001b[39m.\u001b[39mencoding(\u001b[39m'\u001b[39m\u001b[39mutf-16\u001b[39m\u001b[39m'\u001b[39m)))\n",
      "\u001b[1;31mNameError\u001b[0m: name 'meSoPretty' is not defined"
     ]
    }
   ],
   "source": [
    "# decoded_text = text.decode('utf-8')\n",
    "soup = BeautifulSoup(text, \"html.parser\")\n",
    "\n",
    "# save the beautiful date to a html file with \n",
    "with open(\"test.html\", \"w\", encoding='utf-16') as f:\n",
    "    f.write(str(meSoPretty.encoding('utf-16')))"
   ]
  },
  {
   "cell_type": "code",
   "execution_count": 33,
   "metadata": {},
   "outputs": [],
   "source": []
  },
  {
   "cell_type": "code",
   "execution_count": 25,
   "metadata": {},
   "outputs": [
    {
     "name": "stdout",
     "output_type": "stream",
     "text": [
      "None\n"
     ]
    }
   ],
   "source": [
    "import re \n",
    "\n",
    "def get_timestamp(text):\n",
    "  match = re.search(r'\"timestamp\\\\\":(\\d+)}', text)\n",
    "  if match:\n",
    "    return int(match.group(1))\n",
    "  else:\n",
    "    return None\n",
    "\n",
    "# text = \"<html>...</html>\" \n",
    "\n",
    "timestamp = get_timestamp(text)\n",
    "print(timestamp)"
   ]
  },
  {
   "cell_type": "code",
   "execution_count": null,
   "metadata": {},
   "outputs": [],
   "source": [
    "import re\n",
    "from bs4 import BeautifulSoup\n",
    "\n",
    "def get_timestamp(file_contents):\n",
    "  html = file_contents.filename\n",
    "  soup = BeautifulSoup(html, 'html.parser')\n",
    "\n",
    "  text = soup.get_text()\n",
    "  match = re.search(r'\"timestamp\\\\\":(\\d+)}', text)\n",
    "  if match:\n",
    "    return int(match.group(1))\n",
    "  else:\n",
    "    return None\n",
    "\n",
    "file_contents = <file-attachment-contents>\n",
    "\n",
    "timestamp = get_timestamp(file_contents)\n",
    "print(timestamp)"
   ]
  },
  {
   "cell_type": "code",
   "execution_count": 28,
   "metadata": {},
   "outputs": [
    {
     "name": "stdout",
     "output_type": "stream",
     "text": [
      "None\n"
     ]
    }
   ],
   "source": [
    "# soup = BeautifulSoup(html, \"html.parser\")\n",
    "import re\n",
    "\n",
    "def get_timestamp(text):\n",
    "  html = text\n",
    "  match = re.search(r'\"serverTime\":(\\d+),', html)\n",
    "  if match:\n",
    "    return int(match.group(1))\n",
    "  else:\n",
    "    return None\n",
    "\n",
    "# file_contents = <file-attachment-contents>\n",
    "\n",
    "timestamp = get_timestamp(text)\n",
    "print(timestamp)"
   ]
  },
  {
   "cell_type": "code",
   "execution_count": 6,
   "metadata": {},
   "outputs": [],
   "source": [
    "# get the timestamp from the soup\n",
    "timestamp = soup.find(\"script\", {\"data-content-len\": \"189\"}).get(\"data-sjs\")"
   ]
  },
  {
   "cell_type": "code",
   "execution_count": 7,
   "metadata": {},
   "outputs": [
    {
     "data": {
      "text/plain": [
       "''"
      ]
     },
     "execution_count": 7,
     "metadata": {},
     "output_type": "execute_result"
    }
   ],
   "source": [
    "timestamp"
   ]
  },
  {
   "cell_type": "code",
   "execution_count": 62,
   "metadata": {},
   "outputs": [
    {
     "data": {
      "text/plain": [
       "\"\\n\\n\\n\\n\\n\\n\\n\\n\\n\\n\\n\\n\\n𝙃𝙤𝙡𝙡𝙮𝙬𝙤𝙤𝙙 - It's always the quite ones...\\n\\n\\n\\n\\n\\n\\n\\n\\n\\n\\n\\n\\n\\n\\n\\n\\n\\n\\n\\n\\n\\n\\n\\n\\n\\n\\n\\n\\n\\n\\n\\n\\n\\n\\n\\n\\n\\n\\n\\n\\n\\n\\n\\n\\n\""
      ]
     },
     "execution_count": 62,
     "metadata": {},
     "output_type": "execute_result"
    }
   ],
   "source": [
    "soup.prettify()\n"
   ]
  },
  {
   "cell_type": "code",
   "execution_count": 63,
   "metadata": {},
   "outputs": [
    {
     "ename": "AttributeError",
     "evalue": "'GraphAPI' object has no attribute 'comments'",
     "output_type": "error",
     "traceback": [
      "\u001b[1;31m---------------------------------------------------------------------------\u001b[0m",
      "\u001b[1;31mAttributeError\u001b[0m                            Traceback (most recent call last)",
      "\u001b[1;32mc:\\Users\\saket\\Documents\\GitHub\\Pyhton\\i3access\\scraping\\facebook scraper\\main.ipynb Cell 12\u001b[0m line \u001b[0;36m1\n\u001b[1;32m----> <a href='vscode-notebook-cell:/c%3A/Users/saket/Documents/GitHub/Pyhton/i3access/scraping/facebook%20scraper/main.ipynb#X16sZmlsZQ%3D%3D?line=0'>1</a>\u001b[0m graph\u001b[39m.\u001b[39mcomments\n",
      "\u001b[1;31mAttributeError\u001b[0m: 'GraphAPI' object has no attribute 'comments'"
     ]
    }
   ],
   "source": [
    "graph.comments"
   ]
  },
  {
   "cell_type": "code",
   "execution_count": null,
   "metadata": {},
   "outputs": [
    {
     "data": {
      "text/plain": [
       "{'name': '𝙃𝙤𝙡𝙡𝙮𝙬𝙤𝙤𝙙', 'id': '100068313372396'}"
      ]
     },
     "execution_count": 35,
     "metadata": {},
     "output_type": "execute_result"
    }
   ],
   "source": []
  },
  {
   "cell_type": "code",
   "execution_count": null,
   "metadata": {},
   "outputs": [],
   "source": [
    "https://www.facebook.com/photo/?fbid=6686766981377180&set=a.431128646941076"
   ]
  },
  {
   "cell_type": "code",
   "execution_count": 17,
   "metadata": {},
   "outputs": [
    {
     "name": "stdout",
     "output_type": "stream",
     "text": [
      "Requirement already satisfied: facebook-sdk in c:\\users\\saket\\anaconda3\\lib\\site-packages (3.1.0)\n",
      "Requirement already satisfied: requests in c:\\users\\saket\\anaconda3\\lib\\site-packages (from facebook-sdk) (2.31.0)\n",
      "Requirement already satisfied: charset-normalizer<4,>=2 in c:\\users\\saket\\anaconda3\\lib\\site-packages (from requests->facebook-sdk) (2.0.4)\n",
      "Requirement already satisfied: idna<4,>=2.5 in c:\\users\\saket\\anaconda3\\lib\\site-packages (from requests->facebook-sdk) (3.4)\n",
      "Requirement already satisfied: urllib3<3,>=1.21.1 in c:\\users\\saket\\anaconda3\\lib\\site-packages (from requests->facebook-sdk) (1.26.16)\n",
      "Requirement already satisfied: certifi>=2017.4.17 in c:\\users\\saket\\anaconda3\\lib\\site-packages (from requests->facebook-sdk) (2023.7.22)\n",
      "Note: you may need to restart the kernel to use updated packages.\n"
     ]
    }
   ],
   "source": [
    "#import facebook sdk\n",
    "import "
   ]
  },
  {
   "cell_type": "code",
   "execution_count": 16,
   "metadata": {},
   "outputs": [
    {
     "ename": "FacebookError",
     "evalue": "FacebookError(code=3,message=(#3) Application does not have the capability to make this API call.,type=OAuthException,fbtrace_id=A-pgXB4GQ8_L2V7QCqJMy5_)",
     "output_type": "error",
     "traceback": [
      "\u001b[1;31m---------------------------------------------------------------------------\u001b[0m",
      "\u001b[1;31mFacebookError\u001b[0m                             Traceback (most recent call last)",
      "\u001b[1;32mc:\\Users\\saket\\Documents\\GitHub\\Pyhton\\i3access\\scraping\\facebook scraper\\main.ipynb Cell 4\u001b[0m line \u001b[0;36m1\n\u001b[1;32m----> <a href='vscode-notebook-cell:/c%3A/Users/saket/Documents/GitHub/Pyhton/i3access/scraping/facebook%20scraper/main.ipynb#W2sZmlsZQ%3D%3D?line=0'>1</a>\u001b[0m api\u001b[39m.\u001b[39mpost_object(\u001b[39m\"\u001b[39m\u001b[39m111510365129477\u001b[39m\u001b[39m\"\u001b[39m)\n",
      "File \u001b[1;32mc:\\Users\\saket\\anaconda3\\Lib\\site-packages\\pyfacebook\\api\\graph.py:468\u001b[0m, in \u001b[0;36mGraphAPI.post_object\u001b[1;34m(self, object_id, connection, params, data, files, **kwargs)\u001b[0m\n\u001b[0;32m    458\u001b[0m     path \u001b[39m+\u001b[39m\u001b[39m=\u001b[39m \u001b[39mf\u001b[39m\u001b[39m\"\u001b[39m\u001b[39m/\u001b[39m\u001b[39m{\u001b[39;00mconnection\u001b[39m}\u001b[39;00m\u001b[39m\"\u001b[39m\n\u001b[0;32m    460\u001b[0m resp \u001b[39m=\u001b[39m \u001b[39mself\u001b[39m\u001b[39m.\u001b[39m_request(\n\u001b[0;32m    461\u001b[0m     url\u001b[39m=\u001b[39mpath,\n\u001b[0;32m    462\u001b[0m     args\u001b[39m=\u001b[39mparams,\n\u001b[1;32m   (...)\u001b[0m\n\u001b[0;32m    466\u001b[0m     \u001b[39m*\u001b[39m\u001b[39m*\u001b[39mkwargs,\n\u001b[0;32m    467\u001b[0m )\n\u001b[1;32m--> 468\u001b[0m data \u001b[39m=\u001b[39m \u001b[39mself\u001b[39m\u001b[39m.\u001b[39m_parse_response(resp)\n\u001b[0;32m    469\u001b[0m \u001b[39mreturn\u001b[39;00m data\n",
      "File \u001b[1;32mc:\\Users\\saket\\anaconda3\\Lib\\site-packages\\pyfacebook\\api\\graph.py:228\u001b[0m, in \u001b[0;36mGraphAPI._parse_response\u001b[1;34m(self, response)\u001b[0m\n\u001b[0;32m    226\u001b[0m \u001b[39mif\u001b[39;00m \u001b[39m\"\u001b[39m\u001b[39mjson\u001b[39m\u001b[39m\"\u001b[39m \u001b[39min\u001b[39;00m content_type:\n\u001b[0;32m    227\u001b[0m     data \u001b[39m=\u001b[39m response\u001b[39m.\u001b[39mjson()\n\u001b[1;32m--> 228\u001b[0m     \u001b[39mself\u001b[39m\u001b[39m.\u001b[39m_check_graph_error(data\u001b[39m=\u001b[39mdata)\n\u001b[0;32m    229\u001b[0m     \u001b[39mreturn\u001b[39;00m data\n\u001b[0;32m    230\u001b[0m \u001b[39melif\u001b[39;00m \u001b[39m\"\u001b[39m\u001b[39mimage/\u001b[39m\u001b[39m\"\u001b[39m \u001b[39min\u001b[39;00m content_type:\n",
      "File \u001b[1;32mc:\\Users\\saket\\anaconda3\\Lib\\site-packages\\pyfacebook\\api\\graph.py:246\u001b[0m, in \u001b[0;36mGraphAPI._check_graph_error\u001b[1;34m(data)\u001b[0m\n\u001b[0;32m    242\u001b[0m \u001b[39m\u001b[39m\u001b[39m\"\"\"\u001b[39;00m\n\u001b[0;32m    243\u001b[0m \u001b[39m:param data: Data from response\u001b[39;00m\n\u001b[0;32m    244\u001b[0m \u001b[39m\"\"\"\u001b[39;00m\n\u001b[0;32m    245\u001b[0m \u001b[39mif\u001b[39;00m \u001b[39m\"\u001b[39m\u001b[39merror\u001b[39m\u001b[39m\"\u001b[39m \u001b[39min\u001b[39;00m data:\n\u001b[1;32m--> 246\u001b[0m     \u001b[39mraise\u001b[39;00m FacebookError(data)\n",
      "\u001b[1;31mFacebookError\u001b[0m: FacebookError(code=3,message=(#3) Application does not have the capability to make this API call.,type=OAuthException,fbtrace_id=A-pgXB4GQ8_L2V7QCqJMy5_)"
     ]
    }
   ],
   "source": [
    "api.post_object(\"111510365129477\")"
   ]
  }
 ],
 "metadata": {
  "kernelspec": {
   "display_name": "base",
   "language": "python",
   "name": "python3"
  },
  "language_info": {
   "codemirror_mode": {
    "name": "ipython",
    "version": 3
   },
   "file_extension": ".py",
   "mimetype": "text/x-python",
   "name": "python",
   "nbconvert_exporter": "python",
   "pygments_lexer": "ipython3",
   "version": "3.11.5"
  }
 },
 "nbformat": 4,
 "nbformat_minor": 2
}
