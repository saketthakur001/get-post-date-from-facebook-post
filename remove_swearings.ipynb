{
 "cells": [
  {
   "cell_type": "code",
   "execution_count": 28,
   "metadata": {},
   "outputs": [],
   "source": [
    "import swearings\n",
    "import re\n",
    "\n",
    "def remove_swearings(text):\n",
    "\n",
    "    print(text, '--- the actual text')\n",
    "    words = text.split(' ')\n",
    "    new_sentense = ''\n",
    "    shouldBeAdded = True\n",
    "    for word in words:\n",
    "        if word not in unKind_words:\n",
    "            for start_unkind_word in start_unkind_words:\n",
    "                # print(word, start_unkind_word)\n",
    "                if re.search(f\"^{re.escape(start_unkind_word)}\", word):\n",
    "                    # print(word, ' -- unkind word detected')\n",
    "                    shouldBeAdded = False\n",
    "        else: shouldBeAdded = False\n",
    "        if shouldBeAdded:\n",
    "            new_sentense += word + ' '\n",
    "        shouldBeAdded = True\n",
    "    return new_sentense[:-1]\n"
   ]
  },
  {
   "cell_type": "code",
   "execution_count": null,
   "metadata": {},
   "outputs": [],
   "source": []
  }
 ],
 "metadata": {
  "kernelspec": {
   "display_name": "base",
   "language": "python",
   "name": "python3"
  },
  "language_info": {
   "codemirror_mode": {
    "name": "ipython",
    "version": 3
   },
   "file_extension": ".py",
   "mimetype": "text/x-python",
   "name": "python",
   "nbconvert_exporter": "python",
   "pygments_lexer": "ipython3",
   "version": "3.11.5"
  }
 },
 "nbformat": 4,
 "nbformat_minor": 2
}
