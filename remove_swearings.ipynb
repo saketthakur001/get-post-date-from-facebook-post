{
 "cells": [
  {
   "cell_type": "code",
   "execution_count": 1,
   "metadata": {},
   "outputs": [
    {
     "name": "stdout",
     "output_type": "stream",
     "text": [
      "Main Paytm se loan liyaa tha bhnklundoo ne pass hi nhii kiaa --- the actual text\n",
      "Main Paytm se loan liyaa tha ne pass hi nhii kiaa \n",
      "\n",
      "Gali Gali m chor h Paytm madarchod h --- the actual text\n",
      "Gali Gali m chor h Paytm h \n",
      "\n",
      "Bhdwye h paytm valt gndu k bachhe --- the actual text\n",
      "Bhdwye h paytm valt k bachhe \n",
      "\n",
      "Sentence daal ye bhnklnd Paytm vali ki maakichut --- the actual text\n",
      "Sentence daal ye Paytm vali ki \n",
      "\n"
     ]
    }
   ],
   "source": [
    "import re\n",
    "\n",
    "def remove_swearings(text):\n",
    "    start_unkind_words = ['mada', 'beti', 'bti', 'chod', 'chut', 'lun', 'lawd', 'lode', 'gnd', 'gand', 'mc', 'bc', 'chut',\n",
    "                          'randi', 'lndu', 'bhsd', 'bhons', 'bhad', \"bhen\", \"bhnk\"]\n",
    "\n",
    "    unKind_words = ['madarchod','bhenchod','maakichut','bhosdike','maaklaude','bsdk','rndiik','randi','lund','chutiya',\n",
    "    'bhdwee','gndu','gandu','bhadwee','bhadwee','chutt','choochi','bhosdaa','bhosdike','bhsdike','chudaap','lawde','lnd',\n",
    "    'betichod','btichd','betichod','chod','gndwee','gandwee','gndmree','gandmree','kutte','kaminey','kminey','mc','bc','mcc']\n",
    "\n",
    "    print(text, '--- the actual text')\n",
    "    words = text.split(' ')\n",
    "    new_sentense = ''\n",
    "    shouldBeAdded = True\n",
    "    for word in words:\n",
    "        if word not in unKind_words:\n",
    "            for start_unkind_word in start_unkind_words:\n",
    "                # print(word, start_unkind_word)\n",
    "                if re.search(f\"^{re.escape(start_unkind_word)}\", word):\n",
    "                    # print(word, ' -- unkind word detected')\n",
    "                    shouldBeAdded = False\n",
    "        else: shouldBeAdded = False\n",
    "        if shouldBeAdded:\n",
    "            new_sentense += word + ' '\n",
    "        shouldBeAdded = True\n",
    "    return new_sentense[:-1]\n",
    "\n",
    "# print('Main Paytm se loan liyaa tha bhnklundoo ne pass hi nhii kiaa')\n",
    "#test 1\n",
    "print(remove_swearings('Main Paytm se loan liyaa tha bhnklundoo ne pass hi nhii kiaa'), '\\n')\n",
    "#test 2\n",
    "print(remove_swearings('Gali Gali m chor h Paytm madarchod h'), '\\n')\n",
    "#test 3\n",
    "print(remove_swearings('Bhdwye h paytm valt gndu k bachhe'), '\\n')\n",
    "#test 4\n",
    "print(remove_swearings('Sentence daal ye bhnklnd Paytm vali ki maakichut'), '\\n')"
   ]
  }
 ],
 "metadata": {
  "kernelspec": {
   "display_name": "base",
   "language": "python",
   "name": "python3"
  },
  "language_info": {
   "codemirror_mode": {
    "name": "ipython",
    "version": 3
   },
   "file_extension": ".py",
   "mimetype": "text/x-python",
   "name": "python",
   "nbconvert_exporter": "python",
   "pygments_lexer": "ipython3",
   "version": "3.11.5"
  }
 },
 "nbformat": 4,
 "nbformat_minor": 2
}
